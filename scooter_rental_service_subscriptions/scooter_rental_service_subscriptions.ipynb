{
 "cells": [
  {
   "cell_type": "markdown",
   "id": "2db57d82",
   "metadata": {},
   "source": [
    "# Статистический анализ данных пользователей сервиса GoFast"
   ]
  },
  {
   "cell_type": "markdown",
   "id": "3eb3e180",
   "metadata": {},
   "source": [
    "**Цель проекта**\n",
    "\n",
    "Цель проекта - анализ данных о пользователях, их поездках и подписках в сервисе проката самокатов GoFast и проверка гипотез:\n",
    "* Тратят ли пользователи с подпиской больше времени на поездку?\n",
    "* Можно ли сказать что расстояние, которое проезжают пользователи с подпиской за одну поездку не превышает 3130 метров?\n",
    "* Будет ли помесячная выручка от пользователей с подпиской по месяцам выше, чем выручка от пользователей без подписки?\n",
    "\n",
    "**Описание входных данных**\n",
    "\n",
    "Таблица с данными о пользователях — `users_go.csv`\n",
    "- `user_id` —\tуникальный идентификатор пользователя\n",
    "- `name` — имя пользователя\n",
    "- `age` — возраст пользователя\n",
    "- `city` —\tгород\n",
    "- `subscription_type` — тип подписки (free, ultra)\n",
    "\n",
    "Таблица с данными о поездках пользователей — `rides_go.csv`\n",
    "- `user_id` — уникальный идентификатор пользователя\n",
    "- `distance` — расстояние, которое пользователь проехал за поездку (в метрах)\n",
    "- `duration` — продолжительность поездки (в минутах)\n",
    "- `date` — дата совершения поездки\n",
    "\n",
    "Таблица с информацией о подписках — `subscriptions_go.csv`\n",
    "- `subscription_type` —\tтип подписки (free, ultra)\n",
    "- `minute_price` — стоимость одной минуты поездки по данной подписке\n",
    "- `start_ride_price` — стоимость начала поездки\n",
    "- `subscription_fee` — стоимость ежемесячного платежа"
   ]
  },
  {
   "cell_type": "markdown",
   "id": "c42cbe00",
   "metadata": {},
   "source": [
    "## Загрузка данных"
   ]
  },
  {
   "cell_type": "markdown",
   "id": "6a03a201",
   "metadata": {},
   "source": [
    "### Импорт библиотек"
   ]
  },
  {
   "cell_type": "code",
   "execution_count": 1,
   "id": "72576667",
   "metadata": {},
   "outputs": [],
   "source": [
    "import pandas as pd\n",
    "import matplotlib.pyplot as plt\n",
    "import numpy as np\n",
    "from scipy import stats as st\n",
    "from math import factorial"
   ]
  },
  {
   "cell_type": "markdown",
   "id": "7c9d3277",
   "metadata": {},
   "source": [
    "### Сохранение датафреймов"
   ]
  },
  {
   "cell_type": "code",
   "execution_count": 2,
   "id": "2d539f94",
   "metadata": {},
   "outputs": [],
   "source": [
    "try:\n",
    "    users_go = pd.read_csv('users_go.csv')\n",
    "except:\n",
    "    users_go = pd.read_csv('/datasets/users_go.csv')"
   ]
  },
  {
   "cell_type": "code",
   "execution_count": 3,
   "id": "eff9f206",
   "metadata": {},
   "outputs": [],
   "source": [
    "try:\n",
    "    rides_go = pd.read_csv('rides_go.csv')\n",
    "except:\n",
    "    rides_go = pd.read_csv('/datasets/rides_go.csv')"
   ]
  },
  {
   "cell_type": "code",
   "execution_count": 4,
   "id": "32b66dac",
   "metadata": {},
   "outputs": [],
   "source": [
    "try:\n",
    "    subscriptions_go = pd.read_csv('subscriptions_go.csv')\n",
    "except:\n",
    "    subscriptions_go = pd.read_csv('/datasets/subscriptions_go.csv')"
   ]
  },
  {
   "cell_type": "markdown",
   "id": "ede7c890",
   "metadata": {},
   "source": [
    "### Изучение общей информации о датафреймах"
   ]
  },
  {
   "cell_type": "code",
   "execution_count": 5,
   "id": "e8ff5ecf",
   "metadata": {},
   "outputs": [
    {
     "data": {
      "text/html": [
       "<div>\n",
       "<style scoped>\n",
       "    .dataframe tbody tr th:only-of-type {\n",
       "        vertical-align: middle;\n",
       "    }\n",
       "\n",
       "    .dataframe tbody tr th {\n",
       "        vertical-align: top;\n",
       "    }\n",
       "\n",
       "    .dataframe thead th {\n",
       "        text-align: right;\n",
       "    }\n",
       "</style>\n",
       "<table border=\"1\" class=\"dataframe\">\n",
       "  <thead>\n",
       "    <tr style=\"text-align: right;\">\n",
       "      <th></th>\n",
       "      <th>user_id</th>\n",
       "      <th>name</th>\n",
       "      <th>age</th>\n",
       "      <th>city</th>\n",
       "      <th>subscription_type</th>\n",
       "    </tr>\n",
       "  </thead>\n",
       "  <tbody>\n",
       "    <tr>\n",
       "      <th>0</th>\n",
       "      <td>1</td>\n",
       "      <td>Кира</td>\n",
       "      <td>22</td>\n",
       "      <td>Тюмень</td>\n",
       "      <td>ultra</td>\n",
       "    </tr>\n",
       "    <tr>\n",
       "      <th>1</th>\n",
       "      <td>2</td>\n",
       "      <td>Станислав</td>\n",
       "      <td>31</td>\n",
       "      <td>Омск</td>\n",
       "      <td>ultra</td>\n",
       "    </tr>\n",
       "    <tr>\n",
       "      <th>2</th>\n",
       "      <td>3</td>\n",
       "      <td>Алексей</td>\n",
       "      <td>20</td>\n",
       "      <td>Москва</td>\n",
       "      <td>ultra</td>\n",
       "    </tr>\n",
       "    <tr>\n",
       "      <th>3</th>\n",
       "      <td>4</td>\n",
       "      <td>Константин</td>\n",
       "      <td>26</td>\n",
       "      <td>Ростов-на-Дону</td>\n",
       "      <td>ultra</td>\n",
       "    </tr>\n",
       "    <tr>\n",
       "      <th>4</th>\n",
       "      <td>5</td>\n",
       "      <td>Адель</td>\n",
       "      <td>28</td>\n",
       "      <td>Омск</td>\n",
       "      <td>ultra</td>\n",
       "    </tr>\n",
       "  </tbody>\n",
       "</table>\n",
       "</div>"
      ],
      "text/plain": [
       "   user_id        name  age            city subscription_type\n",
       "0        1        Кира   22          Тюмень             ultra\n",
       "1        2   Станислав   31            Омск             ultra\n",
       "2        3     Алексей   20          Москва             ultra\n",
       "3        4  Константин   26  Ростов-на-Дону             ultra\n",
       "4        5       Адель   28            Омск             ultra"
      ]
     },
     "execution_count": 5,
     "metadata": {},
     "output_type": "execute_result"
    }
   ],
   "source": [
    "users_go.head()"
   ]
  },
  {
   "cell_type": "code",
   "execution_count": 6,
   "id": "e3219e2b",
   "metadata": {},
   "outputs": [
    {
     "name": "stdout",
     "output_type": "stream",
     "text": [
      "<class 'pandas.core.frame.DataFrame'>\n",
      "RangeIndex: 1565 entries, 0 to 1564\n",
      "Data columns (total 5 columns):\n",
      " #   Column             Non-Null Count  Dtype \n",
      "---  ------             --------------  ----- \n",
      " 0   user_id            1565 non-null   int64 \n",
      " 1   name               1565 non-null   object\n",
      " 2   age                1565 non-null   int64 \n",
      " 3   city               1565 non-null   object\n",
      " 4   subscription_type  1565 non-null   object\n",
      "dtypes: int64(2), object(3)\n",
      "memory usage: 61.3+ KB\n"
     ]
    }
   ],
   "source": [
    "users_go.info()"
   ]
  },
  {
   "cell_type": "code",
   "execution_count": 7,
   "id": "0596a94e",
   "metadata": {},
   "outputs": [
    {
     "data": {
      "text/html": [
       "<div>\n",
       "<style scoped>\n",
       "    .dataframe tbody tr th:only-of-type {\n",
       "        vertical-align: middle;\n",
       "    }\n",
       "\n",
       "    .dataframe tbody tr th {\n",
       "        vertical-align: top;\n",
       "    }\n",
       "\n",
       "    .dataframe thead th {\n",
       "        text-align: right;\n",
       "    }\n",
       "</style>\n",
       "<table border=\"1\" class=\"dataframe\">\n",
       "  <thead>\n",
       "    <tr style=\"text-align: right;\">\n",
       "      <th></th>\n",
       "      <th>user_id</th>\n",
       "      <th>distance</th>\n",
       "      <th>duration</th>\n",
       "      <th>date</th>\n",
       "    </tr>\n",
       "  </thead>\n",
       "  <tbody>\n",
       "    <tr>\n",
       "      <th>0</th>\n",
       "      <td>1</td>\n",
       "      <td>4409.919140</td>\n",
       "      <td>25.599769</td>\n",
       "      <td>2021-01-01</td>\n",
       "    </tr>\n",
       "    <tr>\n",
       "      <th>1</th>\n",
       "      <td>1</td>\n",
       "      <td>2617.592153</td>\n",
       "      <td>15.816871</td>\n",
       "      <td>2021-01-18</td>\n",
       "    </tr>\n",
       "    <tr>\n",
       "      <th>2</th>\n",
       "      <td>1</td>\n",
       "      <td>754.159807</td>\n",
       "      <td>6.232113</td>\n",
       "      <td>2021-04-20</td>\n",
       "    </tr>\n",
       "    <tr>\n",
       "      <th>3</th>\n",
       "      <td>1</td>\n",
       "      <td>2694.783254</td>\n",
       "      <td>18.511000</td>\n",
       "      <td>2021-08-11</td>\n",
       "    </tr>\n",
       "    <tr>\n",
       "      <th>4</th>\n",
       "      <td>1</td>\n",
       "      <td>4028.687306</td>\n",
       "      <td>26.265803</td>\n",
       "      <td>2021-08-28</td>\n",
       "    </tr>\n",
       "  </tbody>\n",
       "</table>\n",
       "</div>"
      ],
      "text/plain": [
       "   user_id     distance   duration        date\n",
       "0        1  4409.919140  25.599769  2021-01-01\n",
       "1        1  2617.592153  15.816871  2021-01-18\n",
       "2        1   754.159807   6.232113  2021-04-20\n",
       "3        1  2694.783254  18.511000  2021-08-11\n",
       "4        1  4028.687306  26.265803  2021-08-28"
      ]
     },
     "execution_count": 7,
     "metadata": {},
     "output_type": "execute_result"
    }
   ],
   "source": [
    "rides_go.head()"
   ]
  },
  {
   "cell_type": "code",
   "execution_count": 8,
   "id": "7f2281b4",
   "metadata": {},
   "outputs": [
    {
     "name": "stdout",
     "output_type": "stream",
     "text": [
      "<class 'pandas.core.frame.DataFrame'>\n",
      "RangeIndex: 18068 entries, 0 to 18067\n",
      "Data columns (total 4 columns):\n",
      " #   Column    Non-Null Count  Dtype  \n",
      "---  ------    --------------  -----  \n",
      " 0   user_id   18068 non-null  int64  \n",
      " 1   distance  18068 non-null  float64\n",
      " 2   duration  18068 non-null  float64\n",
      " 3   date      18068 non-null  object \n",
      "dtypes: float64(2), int64(1), object(1)\n",
      "memory usage: 564.8+ KB\n"
     ]
    }
   ],
   "source": [
    "rides_go.info()"
   ]
  },
  {
   "cell_type": "code",
   "execution_count": 9,
   "id": "5f13a392",
   "metadata": {},
   "outputs": [
    {
     "data": {
      "text/html": [
       "<div>\n",
       "<style scoped>\n",
       "    .dataframe tbody tr th:only-of-type {\n",
       "        vertical-align: middle;\n",
       "    }\n",
       "\n",
       "    .dataframe tbody tr th {\n",
       "        vertical-align: top;\n",
       "    }\n",
       "\n",
       "    .dataframe thead th {\n",
       "        text-align: right;\n",
       "    }\n",
       "</style>\n",
       "<table border=\"1\" class=\"dataframe\">\n",
       "  <thead>\n",
       "    <tr style=\"text-align: right;\">\n",
       "      <th></th>\n",
       "      <th>subscription_type</th>\n",
       "      <th>minute_price</th>\n",
       "      <th>start_ride_price</th>\n",
       "      <th>subscription_fee</th>\n",
       "    </tr>\n",
       "  </thead>\n",
       "  <tbody>\n",
       "    <tr>\n",
       "      <th>0</th>\n",
       "      <td>free</td>\n",
       "      <td>8</td>\n",
       "      <td>50</td>\n",
       "      <td>0</td>\n",
       "    </tr>\n",
       "    <tr>\n",
       "      <th>1</th>\n",
       "      <td>ultra</td>\n",
       "      <td>6</td>\n",
       "      <td>0</td>\n",
       "      <td>199</td>\n",
       "    </tr>\n",
       "  </tbody>\n",
       "</table>\n",
       "</div>"
      ],
      "text/plain": [
       "  subscription_type  minute_price  start_ride_price  subscription_fee\n",
       "0              free             8                50                 0\n",
       "1             ultra             6                 0               199"
      ]
     },
     "execution_count": 9,
     "metadata": {},
     "output_type": "execute_result"
    }
   ],
   "source": [
    "subscriptions_go.head()"
   ]
  },
  {
   "cell_type": "code",
   "execution_count": 10,
   "id": "bda8ce15",
   "metadata": {},
   "outputs": [
    {
     "name": "stdout",
     "output_type": "stream",
     "text": [
      "<class 'pandas.core.frame.DataFrame'>\n",
      "RangeIndex: 2 entries, 0 to 1\n",
      "Data columns (total 4 columns):\n",
      " #   Column             Non-Null Count  Dtype \n",
      "---  ------             --------------  ----- \n",
      " 0   subscription_type  2 non-null      object\n",
      " 1   minute_price       2 non-null      int64 \n",
      " 2   start_ride_price   2 non-null      int64 \n",
      " 3   subscription_fee   2 non-null      int64 \n",
      "dtypes: int64(3), object(1)\n",
      "memory usage: 192.0+ bytes\n"
     ]
    }
   ],
   "source": [
    "subscriptions_go.info()"
   ]
  },
  {
   "cell_type": "markdown",
   "id": "1bd2fdd0",
   "metadata": {},
   "source": [
    "### Вывод"
   ]
  },
  {
   "cell_type": "markdown",
   "id": "b30df5df",
   "metadata": {},
   "source": [
    "Открыли 3 датасета: users_go, rides_go, subscriptions_go.\n",
    "\n",
    "Необходимо провести предобработку данных, чтобы изменить тип данных в столбце с датой, добавить новый столбец с номером месяца, а так же обработать возможные дубликаты в данных."
   ]
  },
  {
   "cell_type": "markdown",
   "id": "e95ebca7",
   "metadata": {},
   "source": [
    "## Предобработка данных"
   ]
  },
  {
   "cell_type": "markdown",
   "id": "acd84899",
   "metadata": {},
   "source": [
    "### Работа с типами данных"
   ]
  },
  {
   "cell_type": "code",
   "execution_count": 11,
   "id": "af6d202c",
   "metadata": {},
   "outputs": [
    {
     "name": "stdout",
     "output_type": "stream",
     "text": [
      "<class 'pandas.core.frame.DataFrame'>\n",
      "RangeIndex: 18068 entries, 0 to 18067\n",
      "Data columns (total 4 columns):\n",
      " #   Column    Non-Null Count  Dtype         \n",
      "---  ------    --------------  -----         \n",
      " 0   user_id   18068 non-null  int64         \n",
      " 1   distance  18068 non-null  float64       \n",
      " 2   duration  18068 non-null  float64       \n",
      " 3   date      18068 non-null  datetime64[ns]\n",
      "dtypes: datetime64[ns](1), float64(2), int64(1)\n",
      "memory usage: 564.8 KB\n"
     ]
    }
   ],
   "source": [
    "rides_go.date = pd.to_datetime(rides_go.date, format='%Y-%m-%d')\n",
    "rides_go.info()"
   ]
  },
  {
   "cell_type": "markdown",
   "id": "00d57c26",
   "metadata": {},
   "source": [
    "### Добавление нового столбца с номером месяца"
   ]
  },
  {
   "cell_type": "code",
   "execution_count": 12,
   "id": "0bc327ef",
   "metadata": {
    "scrolled": true
   },
   "outputs": [
    {
     "data": {
      "text/html": [
       "<div>\n",
       "<style scoped>\n",
       "    .dataframe tbody tr th:only-of-type {\n",
       "        vertical-align: middle;\n",
       "    }\n",
       "\n",
       "    .dataframe tbody tr th {\n",
       "        vertical-align: top;\n",
       "    }\n",
       "\n",
       "    .dataframe thead th {\n",
       "        text-align: right;\n",
       "    }\n",
       "</style>\n",
       "<table border=\"1\" class=\"dataframe\">\n",
       "  <thead>\n",
       "    <tr style=\"text-align: right;\">\n",
       "      <th></th>\n",
       "      <th>user_id</th>\n",
       "      <th>distance</th>\n",
       "      <th>duration</th>\n",
       "      <th>date</th>\n",
       "      <th>month</th>\n",
       "    </tr>\n",
       "  </thead>\n",
       "  <tbody>\n",
       "    <tr>\n",
       "      <th>0</th>\n",
       "      <td>1</td>\n",
       "      <td>4409.919140</td>\n",
       "      <td>25.599769</td>\n",
       "      <td>2021-01-01</td>\n",
       "      <td>1</td>\n",
       "    </tr>\n",
       "    <tr>\n",
       "      <th>1</th>\n",
       "      <td>1</td>\n",
       "      <td>2617.592153</td>\n",
       "      <td>15.816871</td>\n",
       "      <td>2021-01-18</td>\n",
       "      <td>1</td>\n",
       "    </tr>\n",
       "    <tr>\n",
       "      <th>2</th>\n",
       "      <td>1</td>\n",
       "      <td>754.159807</td>\n",
       "      <td>6.232113</td>\n",
       "      <td>2021-04-20</td>\n",
       "      <td>4</td>\n",
       "    </tr>\n",
       "    <tr>\n",
       "      <th>3</th>\n",
       "      <td>1</td>\n",
       "      <td>2694.783254</td>\n",
       "      <td>18.511000</td>\n",
       "      <td>2021-08-11</td>\n",
       "      <td>8</td>\n",
       "    </tr>\n",
       "    <tr>\n",
       "      <th>4</th>\n",
       "      <td>1</td>\n",
       "      <td>4028.687306</td>\n",
       "      <td>26.265803</td>\n",
       "      <td>2021-08-28</td>\n",
       "      <td>8</td>\n",
       "    </tr>\n",
       "  </tbody>\n",
       "</table>\n",
       "</div>"
      ],
      "text/plain": [
       "   user_id     distance   duration       date  month\n",
       "0        1  4409.919140  25.599769 2021-01-01      1\n",
       "1        1  2617.592153  15.816871 2021-01-18      1\n",
       "2        1   754.159807   6.232113 2021-04-20      4\n",
       "3        1  2694.783254  18.511000 2021-08-11      8\n",
       "4        1  4028.687306  26.265803 2021-08-28      8"
      ]
     },
     "execution_count": 12,
     "metadata": {},
     "output_type": "execute_result"
    }
   ],
   "source": [
    "rides_go['month'] = pd.DatetimeIndex(rides_go.date).month\n",
    "rides_go.head()"
   ]
  },
  {
   "cell_type": "code",
   "execution_count": 13,
   "id": "1d5ed8c9",
   "metadata": {},
   "outputs": [
    {
     "data": {
      "text/plain": [
       "'В проекте присутсвуют данные в период с 2021-01-01 00:00:00 по 2021-12-30 00:00:00'"
      ]
     },
     "execution_count": 13,
     "metadata": {},
     "output_type": "execute_result"
    }
   ],
   "source": [
    "f'В проекте присутсвуют данные в период с {rides_go.date.min()} по {rides_go.date.max()}'"
   ]
  },
  {
   "cell_type": "markdown",
   "id": "e5f6a665",
   "metadata": {},
   "source": [
    "В проекте присутствуют данные за один календарный год, так что мы получим достоверную статистику по месяцам в выборке."
   ]
  },
  {
   "cell_type": "markdown",
   "id": "09e9683c",
   "metadata": {},
   "source": [
    "### Обработка дубликатов"
   ]
  },
  {
   "cell_type": "code",
   "execution_count": 14,
   "id": "00a06cb0",
   "metadata": {},
   "outputs": [
    {
     "data": {
      "text/plain": [
       "31"
      ]
     },
     "execution_count": 14,
     "metadata": {},
     "output_type": "execute_result"
    }
   ],
   "source": [
    "users_go.duplicated().sum()"
   ]
  },
  {
   "cell_type": "code",
   "execution_count": 15,
   "id": "443a4ec1",
   "metadata": {},
   "outputs": [
    {
     "data": {
      "text/plain": [
       "0"
      ]
     },
     "execution_count": 15,
     "metadata": {},
     "output_type": "execute_result"
    }
   ],
   "source": [
    "users_go = users_go.drop_duplicates().reset_index(drop=True)\n",
    "users_go.duplicated().sum()"
   ]
  },
  {
   "cell_type": "markdown",
   "id": "0fd47515",
   "metadata": {},
   "source": [
    "### Вывод"
   ]
  },
  {
   "cell_type": "markdown",
   "id": "de046b5f",
   "metadata": {},
   "source": [
    "В результате предобработки данных:\n",
    "* был изменен тип данных в столбце с датой для возможности дальнейших рассчетов\n",
    "* добавлен новый столбец с номером месяца\n",
    "* обработаны дубликаты"
   ]
  },
  {
   "cell_type": "markdown",
   "id": "212593c7",
   "metadata": {},
   "source": [
    "## Исследовательский анализ данных"
   ]
  },
  {
   "cell_type": "markdown",
   "id": "bd1f8b73",
   "metadata": {},
   "source": [
    "### Частота встречаемости городов;"
   ]
  },
  {
   "cell_type": "code",
   "execution_count": 16,
   "id": "081648a5",
   "metadata": {},
   "outputs": [
    {
     "data": {
      "image/png": "[encoded data removed]",
      "text/plain": [
       "<Figure size 640x480 with 1 Axes>"
      ]
     },
     "metadata": {},
     "output_type": "display_data"
    }
   ],
   "source": [
    "(users_go.pivot_table(index='city', values='user_id',\n",
    "                      aggfunc='count').sort_values(by='user_id').plot(\n",
    "                          kind='bar',\n",
    "                          title='Частота встречаемости городов',\n",
    "                          ylabel='Количество пользователей',\n",
    "                          xlabel='Город',\n",
    "                          legend=None))\n",
    "plt.show()"
   ]
  },
  {
   "cell_type": "markdown",
   "id": "f700226c",
   "metadata": {},
   "source": [
    "### Соотношение пользователей с подпиской и без подписки;"
   ]
  },
  {
   "cell_type": "code",
   "execution_count": 17,
   "id": "ced73b14",
   "metadata": {},
   "outputs": [
    {
     "data": {
      "image/png": "[encoded data removed]",
      "text/plain": [
       "<Figure size 640x480 with 1 Axes>"
      ]
     },
     "metadata": {},
     "output_type": "display_data"
    }
   ],
   "source": [
    "(users_go.pivot_table(\n",
    "    index='subscription_type', values='user_id', aggfunc='count').plot(\n",
    "        y='user_id',\n",
    "        kind='pie',\n",
    "        labels=['Без подписки', 'С подпиской'],\n",
    "        autopct='%1.1f%%',\n",
    "        title='Соотношение пользователей с подпиской и без подписки',\n",
    "        ylabel='',\n",
    "        legend=None))\n",
    "plt.show()"
   ]
  },
  {
   "cell_type": "markdown",
   "id": "3c5c5543",
   "metadata": {},
   "source": [
    "### Возраст пользователей;"
   ]
  },
  {
   "cell_type": "code",
   "execution_count": 18,
   "id": "39b7388f",
   "metadata": {},
   "outputs": [
    {
     "data": {
      "text/plain": [
       "count    1534.000000\n",
       "mean       24.903520\n",
       "std         4.572367\n",
       "min        12.000000\n",
       "25%        22.000000\n",
       "50%        25.000000\n",
       "75%        28.000000\n",
       "max        43.000000\n",
       "Name: age, dtype: float64"
      ]
     },
     "execution_count": 18,
     "metadata": {},
     "output_type": "execute_result"
    }
   ],
   "source": [
    "users_go.age.describe()"
   ]
  },
  {
   "cell_type": "code",
   "execution_count": 19,
   "id": "0513837e",
   "metadata": {},
   "outputs": [
    {
     "data": {
      "image/png": "[encoded data removed]",
      "text/plain": [
       "<Figure size 640x480 with 1 Axes>"
      ]
     },
     "metadata": {},
     "output_type": "display_data"
    }
   ],
   "source": [
    "(users_go.pivot_table(index='age', values='user_id', aggfunc='count').plot(\n",
    "    kind='bar',\n",
    "    title='Соотношение возраста пользователей',\n",
    "    xlabel='Возраст',\n",
    "    ylabel='Количество пользователей',\n",
    "    legend=None))\n",
    "plt.show()"
   ]
  },
  {
   "cell_type": "markdown",
   "id": "0efa5a29",
   "metadata": {},
   "source": [
    "### Расстояние, которое пользователь преодолел за одну поездку;"
   ]
  },
  {
   "cell_type": "code",
   "execution_count": 20,
   "id": "020ebf24",
   "metadata": {},
   "outputs": [
    {
     "data": {
      "image/png": "[encoded data removed]",
      "text/plain": [
       "<Figure size 640x480 with 1 Axes>"
      ]
     },
     "metadata": {},
     "output_type": "display_data"
    }
   ],
   "source": [
    "ax = (rides_go.distance.plot(\n",
    "    kind='hist',\n",
    "    bins=50,\n",
    "    grid=True,\n",
    "    title='Расстояние преодолеваемое пользователями за поездку'))\n",
    "ax.set_xlabel('Расстояние')\n",
    "ax.set_ylabel('Количество поездок')\n",
    "plt.show()"
   ]
  },
  {
   "cell_type": "markdown",
   "id": "cb449a5e",
   "metadata": {},
   "source": [
    "### Продолжительность поездок."
   ]
  },
  {
   "cell_type": "code",
   "execution_count": 21,
   "id": "880f308a",
   "metadata": {},
   "outputs": [
    {
     "data": {
      "image/png": "[encoded data removed]",
      "text/plain": [
       "<Figure size 640x480 with 1 Axes>"
      ]
     },
     "metadata": {},
     "output_type": "display_data"
    }
   ],
   "source": [
    "ax = (rides_go.duration.plot(kind='hist',\n",
    "                             bins=40,\n",
    "                             grid=True,\n",
    "                             title='Продолжительность поездок пользователей'))\n",
    "ax.set_xlabel('Время поездки')\n",
    "ax.set_ylabel('Количество поездок')\n",
    "plt.show()"
   ]
  },
  {
   "cell_type": "markdown",
   "id": "c3bf0513",
   "metadata": {},
   "source": [
    "### Вывод"
   ]
  },
  {
   "cell_type": "markdown",
   "id": "b866769d",
   "metadata": {},
   "source": [
    "* В выборке присутствуют данные о пользователях из 8 городов России. В среднем примерно по 190 пользователей из каждого города.\n",
    "* Пользователей с платной подпиской в выборке меньше, чем без нее на 136. 835 пользователей без подписки и 699 с подпиской.\n",
    "* Возраст пользователей в выборке нормально распределен вокруг среднего в 25лет.\n",
    "* Если не учитывать пик коротких поездок, расстояние поездок распределено нормально вокруг среднего в 3100 метров.\n",
    "* Продолжительность поездок в выборке распределено нормально вокруг среднего в 17,5 минут."
   ]
  },
  {
   "cell_type": "markdown",
   "id": "4ef51331",
   "metadata": {},
   "source": [
    "## Объединение данных"
   ]
  },
  {
   "cell_type": "markdown",
   "id": "4be05697",
   "metadata": {},
   "source": [
    "### Объединение данные о пользователях, поездках и подписках в один датафрейм. "
   ]
  },
  {
   "cell_type": "code",
   "execution_count": 22,
   "id": "0a15b015",
   "metadata": {},
   "outputs": [
    {
     "data": {
      "text/html": [
       "<div>\n",
       "<style scoped>\n",
       "    .dataframe tbody tr th:only-of-type {\n",
       "        vertical-align: middle;\n",
       "    }\n",
       "\n",
       "    .dataframe tbody tr th {\n",
       "        vertical-align: top;\n",
       "    }\n",
       "\n",
       "    .dataframe thead th {\n",
       "        text-align: right;\n",
       "    }\n",
       "</style>\n",
       "<table border=\"1\" class=\"dataframe\">\n",
       "  <thead>\n",
       "    <tr style=\"text-align: right;\">\n",
       "      <th></th>\n",
       "      <th>user_id</th>\n",
       "      <th>name</th>\n",
       "      <th>age</th>\n",
       "      <th>city</th>\n",
       "      <th>subscription_type</th>\n",
       "      <th>distance</th>\n",
       "      <th>duration</th>\n",
       "      <th>date</th>\n",
       "      <th>month</th>\n",
       "    </tr>\n",
       "  </thead>\n",
       "  <tbody>\n",
       "    <tr>\n",
       "      <th>12807</th>\n",
       "      <td>1161</td>\n",
       "      <td>Александр</td>\n",
       "      <td>26</td>\n",
       "      <td>Тюмень</td>\n",
       "      <td>free</td>\n",
       "      <td>4203.761308</td>\n",
       "      <td>22.700988</td>\n",
       "      <td>2021-08-14</td>\n",
       "      <td>8</td>\n",
       "    </tr>\n",
       "    <tr>\n",
       "      <th>11844</th>\n",
       "      <td>1090</td>\n",
       "      <td>Дмитрий</td>\n",
       "      <td>22</td>\n",
       "      <td>Ростов-на-Дону</td>\n",
       "      <td>free</td>\n",
       "      <td>4180.745387</td>\n",
       "      <td>10.649818</td>\n",
       "      <td>2021-02-18</td>\n",
       "      <td>2</td>\n",
       "    </tr>\n",
       "    <tr>\n",
       "      <th>11349</th>\n",
       "      <td>1055</td>\n",
       "      <td>Дарья</td>\n",
       "      <td>27</td>\n",
       "      <td>Пятигорск</td>\n",
       "      <td>free</td>\n",
       "      <td>3743.420489</td>\n",
       "      <td>16.037827</td>\n",
       "      <td>2021-01-11</td>\n",
       "      <td>1</td>\n",
       "    </tr>\n",
       "    <tr>\n",
       "      <th>2779</th>\n",
       "      <td>296</td>\n",
       "      <td>Платон</td>\n",
       "      <td>19</td>\n",
       "      <td>Екатеринбург</td>\n",
       "      <td>ultra</td>\n",
       "      <td>2427.467288</td>\n",
       "      <td>25.240731</td>\n",
       "      <td>2021-10-01</td>\n",
       "      <td>10</td>\n",
       "    </tr>\n",
       "    <tr>\n",
       "      <th>714</th>\n",
       "      <td>78</td>\n",
       "      <td>Ростислав</td>\n",
       "      <td>21</td>\n",
       "      <td>Пятигорск</td>\n",
       "      <td>ultra</td>\n",
       "      <td>3698.242053</td>\n",
       "      <td>30.491210</td>\n",
       "      <td>2021-04-12</td>\n",
       "      <td>4</td>\n",
       "    </tr>\n",
       "    <tr>\n",
       "      <th>12328</th>\n",
       "      <td>1126</td>\n",
       "      <td>Владислав</td>\n",
       "      <td>26</td>\n",
       "      <td>Ростов-на-Дону</td>\n",
       "      <td>free</td>\n",
       "      <td>2783.852349</td>\n",
       "      <td>13.186339</td>\n",
       "      <td>2021-08-30</td>\n",
       "      <td>8</td>\n",
       "    </tr>\n",
       "    <tr>\n",
       "      <th>4807</th>\n",
       "      <td>517</td>\n",
       "      <td>Олег</td>\n",
       "      <td>25</td>\n",
       "      <td>Краснодар</td>\n",
       "      <td>ultra</td>\n",
       "      <td>1752.479471</td>\n",
       "      <td>15.007084</td>\n",
       "      <td>2021-12-24</td>\n",
       "      <td>12</td>\n",
       "    </tr>\n",
       "    <tr>\n",
       "      <th>16340</th>\n",
       "      <td>1413</td>\n",
       "      <td>Константин</td>\n",
       "      <td>33</td>\n",
       "      <td>Екатеринбург</td>\n",
       "      <td>free</td>\n",
       "      <td>2687.445581</td>\n",
       "      <td>13.560232</td>\n",
       "      <td>2021-02-11</td>\n",
       "      <td>2</td>\n",
       "    </tr>\n",
       "    <tr>\n",
       "      <th>10385</th>\n",
       "      <td>984</td>\n",
       "      <td>Анжелика</td>\n",
       "      <td>34</td>\n",
       "      <td>Краснодар</td>\n",
       "      <td>free</td>\n",
       "      <td>4940.558010</td>\n",
       "      <td>34.948498</td>\n",
       "      <td>2021-08-01</td>\n",
       "      <td>8</td>\n",
       "    </tr>\n",
       "    <tr>\n",
       "      <th>11129</th>\n",
       "      <td>1038</td>\n",
       "      <td>Ярослав</td>\n",
       "      <td>18</td>\n",
       "      <td>Пятигорск</td>\n",
       "      <td>free</td>\n",
       "      <td>2305.390252</td>\n",
       "      <td>8.769773</td>\n",
       "      <td>2021-01-11</td>\n",
       "      <td>1</td>\n",
       "    </tr>\n",
       "    <tr>\n",
       "      <th>17974</th>\n",
       "      <td>1529</td>\n",
       "      <td>Любовь</td>\n",
       "      <td>29</td>\n",
       "      <td>Москва</td>\n",
       "      <td>free</td>\n",
       "      <td>3105.023962</td>\n",
       "      <td>15.210048</td>\n",
       "      <td>2021-02-16</td>\n",
       "      <td>2</td>\n",
       "    </tr>\n",
       "    <tr>\n",
       "      <th>9580</th>\n",
       "      <td>928</td>\n",
       "      <td>Вячеслав</td>\n",
       "      <td>24</td>\n",
       "      <td>Ростов-на-Дону</td>\n",
       "      <td>free</td>\n",
       "      <td>2063.214309</td>\n",
       "      <td>19.737054</td>\n",
       "      <td>2021-05-15</td>\n",
       "      <td>5</td>\n",
       "    </tr>\n",
       "    <tr>\n",
       "      <th>8502</th>\n",
       "      <td>849</td>\n",
       "      <td>Каролина</td>\n",
       "      <td>37</td>\n",
       "      <td>Тюмень</td>\n",
       "      <td>free</td>\n",
       "      <td>4131.341482</td>\n",
       "      <td>14.262683</td>\n",
       "      <td>2021-05-07</td>\n",
       "      <td>5</td>\n",
       "    </tr>\n",
       "    <tr>\n",
       "      <th>982</th>\n",
       "      <td>105</td>\n",
       "      <td>Одиссей</td>\n",
       "      <td>26</td>\n",
       "      <td>Сочи</td>\n",
       "      <td>ultra</td>\n",
       "      <td>4346.316247</td>\n",
       "      <td>17.658481</td>\n",
       "      <td>2021-02-10</td>\n",
       "      <td>2</td>\n",
       "    </tr>\n",
       "    <tr>\n",
       "      <th>3291</th>\n",
       "      <td>355</td>\n",
       "      <td>Данила</td>\n",
       "      <td>24</td>\n",
       "      <td>Ростов-на-Дону</td>\n",
       "      <td>ultra</td>\n",
       "      <td>2664.198755</td>\n",
       "      <td>18.512135</td>\n",
       "      <td>2021-09-18</td>\n",
       "      <td>9</td>\n",
       "    </tr>\n",
       "  </tbody>\n",
       "</table>\n",
       "</div>"
      ],
      "text/plain": [
       "       user_id        name  age            city subscription_type  \\\n",
       "12807     1161   Александр   26          Тюмень              free   \n",
       "11844     1090     Дмитрий   22  Ростов-на-Дону              free   \n",
       "11349     1055       Дарья   27       Пятигорск              free   \n",
       "2779       296      Платон   19    Екатеринбург             ultra   \n",
       "714         78   Ростислав   21       Пятигорск             ultra   \n",
       "12328     1126   Владислав   26  Ростов-на-Дону              free   \n",
       "4807       517        Олег   25       Краснодар             ultra   \n",
       "16340     1413  Константин   33    Екатеринбург              free   \n",
       "10385      984    Анжелика   34       Краснодар              free   \n",
       "11129     1038     Ярослав   18       Пятигорск              free   \n",
       "17974     1529      Любовь   29          Москва              free   \n",
       "9580       928    Вячеслав   24  Ростов-на-Дону              free   \n",
       "8502       849    Каролина   37          Тюмень              free   \n",
       "982        105     Одиссей   26            Сочи             ultra   \n",
       "3291       355      Данила   24  Ростов-на-Дону             ultra   \n",
       "\n",
       "          distance   duration       date  month  \n",
       "12807  4203.761308  22.700988 2021-08-14      8  \n",
       "11844  4180.745387  10.649818 2021-02-18      2  \n",
       "11349  3743.420489  16.037827 2021-01-11      1  \n",
       "2779   2427.467288  25.240731 2021-10-01     10  \n",
       "714    3698.242053  30.491210 2021-04-12      4  \n",
       "12328  2783.852349  13.186339 2021-08-30      8  \n",
       "4807   1752.479471  15.007084 2021-12-24     12  \n",
       "16340  2687.445581  13.560232 2021-02-11      2  \n",
       "10385  4940.558010  34.948498 2021-08-01      8  \n",
       "11129  2305.390252   8.769773 2021-01-11      1  \n",
       "17974  3105.023962  15.210048 2021-02-16      2  \n",
       "9580   2063.214309  19.737054 2021-05-15      5  \n",
       "8502   4131.341482  14.262683 2021-05-07      5  \n",
       "982    4346.316247  17.658481 2021-02-10      2  \n",
       "3291   2664.198755  18.512135 2021-09-18      9  "
      ]
     },
     "execution_count": 22,
     "metadata": {},
     "output_type": "execute_result"
    }
   ],
   "source": [
    "data = users_go.merge(rides_go, on='user_id')\n",
    "data.sample(15)"
   ]
  },
  {
   "cell_type": "code",
   "execution_count": 23,
   "id": "42881491",
   "metadata": {
    "scrolled": false
   },
   "outputs": [
    {
     "data": {
      "text/html": [
       "<div>\n",
       "<style scoped>\n",
       "    .dataframe tbody tr th:only-of-type {\n",
       "        vertical-align: middle;\n",
       "    }\n",
       "\n",
       "    .dataframe tbody tr th {\n",
       "        vertical-align: top;\n",
       "    }\n",
       "\n",
       "    .dataframe thead th {\n",
       "        text-align: right;\n",
       "    }\n",
       "</style>\n",
       "<table border=\"1\" class=\"dataframe\">\n",
       "  <thead>\n",
       "    <tr style=\"text-align: right;\">\n",
       "      <th></th>\n",
       "      <th>user_id</th>\n",
       "      <th>name</th>\n",
       "      <th>age</th>\n",
       "      <th>city</th>\n",
       "      <th>subscription_type</th>\n",
       "      <th>distance</th>\n",
       "      <th>duration</th>\n",
       "      <th>date</th>\n",
       "      <th>month</th>\n",
       "      <th>minute_price</th>\n",
       "      <th>start_ride_price</th>\n",
       "      <th>subscription_fee</th>\n",
       "    </tr>\n",
       "  </thead>\n",
       "  <tbody>\n",
       "    <tr>\n",
       "      <th>8714</th>\n",
       "      <td>866</td>\n",
       "      <td>Дарина</td>\n",
       "      <td>34</td>\n",
       "      <td>Москва</td>\n",
       "      <td>free</td>\n",
       "      <td>4894.590002</td>\n",
       "      <td>21.747016</td>\n",
       "      <td>2021-05-09</td>\n",
       "      <td>5</td>\n",
       "      <td>8</td>\n",
       "      <td>50</td>\n",
       "      <td>0</td>\n",
       "    </tr>\n",
       "    <tr>\n",
       "      <th>4360</th>\n",
       "      <td>468</td>\n",
       "      <td>Снежана</td>\n",
       "      <td>31</td>\n",
       "      <td>Краснодар</td>\n",
       "      <td>ultra</td>\n",
       "      <td>2612.422411</td>\n",
       "      <td>15.598048</td>\n",
       "      <td>2021-12-03</td>\n",
       "      <td>12</td>\n",
       "      <td>6</td>\n",
       "      <td>0</td>\n",
       "      <td>199</td>\n",
       "    </tr>\n",
       "    <tr>\n",
       "      <th>9247</th>\n",
       "      <td>904</td>\n",
       "      <td>Данила</td>\n",
       "      <td>30</td>\n",
       "      <td>Пятигорск</td>\n",
       "      <td>free</td>\n",
       "      <td>2594.213785</td>\n",
       "      <td>26.150257</td>\n",
       "      <td>2021-05-05</td>\n",
       "      <td>5</td>\n",
       "      <td>8</td>\n",
       "      <td>50</td>\n",
       "      <td>0</td>\n",
       "    </tr>\n",
       "    <tr>\n",
       "      <th>12358</th>\n",
       "      <td>1128</td>\n",
       "      <td>Георгий</td>\n",
       "      <td>27</td>\n",
       "      <td>Краснодар</td>\n",
       "      <td>free</td>\n",
       "      <td>2767.345266</td>\n",
       "      <td>19.149656</td>\n",
       "      <td>2021-11-22</td>\n",
       "      <td>11</td>\n",
       "      <td>8</td>\n",
       "      <td>50</td>\n",
       "      <td>0</td>\n",
       "    </tr>\n",
       "    <tr>\n",
       "      <th>7850</th>\n",
       "      <td>797</td>\n",
       "      <td>Николай</td>\n",
       "      <td>28</td>\n",
       "      <td>Пятигорск</td>\n",
       "      <td>free</td>\n",
       "      <td>3414.505819</td>\n",
       "      <td>13.782650</td>\n",
       "      <td>2021-11-20</td>\n",
       "      <td>11</td>\n",
       "      <td>8</td>\n",
       "      <td>50</td>\n",
       "      <td>0</td>\n",
       "    </tr>\n",
       "    <tr>\n",
       "      <th>16455</th>\n",
       "      <td>1420</td>\n",
       "      <td>Юлия</td>\n",
       "      <td>18</td>\n",
       "      <td>Краснодар</td>\n",
       "      <td>free</td>\n",
       "      <td>2288.435725</td>\n",
       "      <td>15.734695</td>\n",
       "      <td>2021-10-29</td>\n",
       "      <td>10</td>\n",
       "      <td>8</td>\n",
       "      <td>50</td>\n",
       "      <td>0</td>\n",
       "    </tr>\n",
       "    <tr>\n",
       "      <th>14029</th>\n",
       "      <td>1247</td>\n",
       "      <td>Марат</td>\n",
       "      <td>30</td>\n",
       "      <td>Омск</td>\n",
       "      <td>free</td>\n",
       "      <td>4582.109867</td>\n",
       "      <td>17.746330</td>\n",
       "      <td>2021-03-26</td>\n",
       "      <td>3</td>\n",
       "      <td>8</td>\n",
       "      <td>50</td>\n",
       "      <td>0</td>\n",
       "    </tr>\n",
       "    <tr>\n",
       "      <th>3513</th>\n",
       "      <td>378</td>\n",
       "      <td>Кирилл</td>\n",
       "      <td>24</td>\n",
       "      <td>Москва</td>\n",
       "      <td>ultra</td>\n",
       "      <td>597.443992</td>\n",
       "      <td>5.991480</td>\n",
       "      <td>2021-01-03</td>\n",
       "      <td>1</td>\n",
       "      <td>6</td>\n",
       "      <td>0</td>\n",
       "      <td>199</td>\n",
       "    </tr>\n",
       "    <tr>\n",
       "      <th>1465</th>\n",
       "      <td>159</td>\n",
       "      <td>Нелли</td>\n",
       "      <td>25</td>\n",
       "      <td>Тюмень</td>\n",
       "      <td>ultra</td>\n",
       "      <td>1285.260577</td>\n",
       "      <td>17.141042</td>\n",
       "      <td>2021-07-22</td>\n",
       "      <td>7</td>\n",
       "      <td>6</td>\n",
       "      <td>0</td>\n",
       "      <td>199</td>\n",
       "    </tr>\n",
       "    <tr>\n",
       "      <th>7397</th>\n",
       "      <td>763</td>\n",
       "      <td>Захар</td>\n",
       "      <td>20</td>\n",
       "      <td>Краснодар</td>\n",
       "      <td>free</td>\n",
       "      <td>5538.342991</td>\n",
       "      <td>31.561583</td>\n",
       "      <td>2021-02-26</td>\n",
       "      <td>2</td>\n",
       "      <td>8</td>\n",
       "      <td>50</td>\n",
       "      <td>0</td>\n",
       "    </tr>\n",
       "  </tbody>\n",
       "</table>\n",
       "</div>"
      ],
      "text/plain": [
       "       user_id     name  age       city subscription_type     distance  \\\n",
       "8714       866   Дарина   34     Москва              free  4894.590002   \n",
       "4360       468  Снежана   31  Краснодар             ultra  2612.422411   \n",
       "9247       904   Данила   30  Пятигорск              free  2594.213785   \n",
       "12358     1128  Георгий   27  Краснодар              free  2767.345266   \n",
       "7850       797  Николай   28  Пятигорск              free  3414.505819   \n",
       "16455     1420     Юлия   18  Краснодар              free  2288.435725   \n",
       "14029     1247    Марат   30       Омск              free  4582.109867   \n",
       "3513       378   Кирилл   24     Москва             ultra   597.443992   \n",
       "1465       159    Нелли   25     Тюмень             ultra  1285.260577   \n",
       "7397       763    Захар   20  Краснодар              free  5538.342991   \n",
       "\n",
       "        duration       date  month  minute_price  start_ride_price  \\\n",
       "8714   21.747016 2021-05-09      5             8                50   \n",
       "4360   15.598048 2021-12-03     12             6                 0   \n",
       "9247   26.150257 2021-05-05      5             8                50   \n",
       "12358  19.149656 2021-11-22     11             8                50   \n",
       "7850   13.782650 2021-11-20     11             8                50   \n",
       "16455  15.734695 2021-10-29     10             8                50   \n",
       "14029  17.746330 2021-03-26      3             8                50   \n",
       "3513    5.991480 2021-01-03      1             6                 0   \n",
       "1465   17.141042 2021-07-22      7             6                 0   \n",
       "7397   31.561583 2021-02-26      2             8                50   \n",
       "\n",
       "       subscription_fee  \n",
       "8714                  0  \n",
       "4360                199  \n",
       "9247                  0  \n",
       "12358                 0  \n",
       "7850                  0  \n",
       "16455                 0  \n",
       "14029                 0  \n",
       "3513                199  \n",
       "1465                199  \n",
       "7397                  0  "
      ]
     },
     "execution_count": 23,
     "metadata": {},
     "output_type": "execute_result"
    }
   ],
   "source": [
    "data = data.merge(subscriptions_go, on='subscription_type')\n",
    "data.sample(10)"
   ]
  },
  {
   "cell_type": "code",
   "execution_count": 24,
   "id": "d6614ff1",
   "metadata": {},
   "outputs": [
    {
     "name": "stdout",
     "output_type": "stream",
     "text": [
      "Все данные попали в новый датафрейм\n"
     ]
    }
   ],
   "source": [
    "if data.shape[0] == rides_go.shape[0]:\n",
    "    print('Все данные попали в новый датафрейм')\n",
    "else:\n",
    "    print('В результате объединения данные были потеряны')"
   ]
  },
  {
   "cell_type": "code",
   "execution_count": 25,
   "id": "9e915954",
   "metadata": {},
   "outputs": [
    {
     "name": "stdout",
     "output_type": "stream",
     "text": [
      "<class 'pandas.core.frame.DataFrame'>\n",
      "Int64Index: 18068 entries, 0 to 18067\n",
      "Data columns (total 12 columns):\n",
      " #   Column             Non-Null Count  Dtype         \n",
      "---  ------             --------------  -----         \n",
      " 0   user_id            18068 non-null  int64         \n",
      " 1   name               18068 non-null  object        \n",
      " 2   age                18068 non-null  int64         \n",
      " 3   city               18068 non-null  object        \n",
      " 4   subscription_type  18068 non-null  object        \n",
      " 5   distance           18068 non-null  float64       \n",
      " 6   duration           18068 non-null  float64       \n",
      " 7   date               18068 non-null  datetime64[ns]\n",
      " 8   month              18068 non-null  int64         \n",
      " 9   minute_price       18068 non-null  int64         \n",
      " 10  start_ride_price   18068 non-null  int64         \n",
      " 11  subscription_fee   18068 non-null  int64         \n",
      "dtypes: datetime64[ns](1), float64(2), int64(6), object(3)\n",
      "memory usage: 1.8+ MB\n"
     ]
    }
   ],
   "source": [
    "data.info()"
   ]
  },
  {
   "cell_type": "markdown",
   "id": "f37f24bb",
   "metadata": {},
   "source": [
    "### Создание дополнительных датафреймов с данными о пользователях с подпиской и без"
   ]
  },
  {
   "cell_type": "code",
   "execution_count": 26,
   "id": "f1a87f03",
   "metadata": {},
   "outputs": [
    {
     "data": {
      "text/html": [
       "<div>\n",
       "<style scoped>\n",
       "    .dataframe tbody tr th:only-of-type {\n",
       "        vertical-align: middle;\n",
       "    }\n",
       "\n",
       "    .dataframe tbody tr th {\n",
       "        vertical-align: top;\n",
       "    }\n",
       "\n",
       "    .dataframe thead th {\n",
       "        text-align: right;\n",
       "    }\n",
       "</style>\n",
       "<table border=\"1\" class=\"dataframe\">\n",
       "  <thead>\n",
       "    <tr style=\"text-align: right;\">\n",
       "      <th></th>\n",
       "      <th>user_id</th>\n",
       "      <th>name</th>\n",
       "      <th>age</th>\n",
       "      <th>city</th>\n",
       "      <th>subscription_type</th>\n",
       "      <th>distance</th>\n",
       "      <th>duration</th>\n",
       "      <th>date</th>\n",
       "      <th>month</th>\n",
       "      <th>minute_price</th>\n",
       "      <th>start_ride_price</th>\n",
       "      <th>subscription_fee</th>\n",
       "    </tr>\n",
       "  </thead>\n",
       "  <tbody>\n",
       "    <tr>\n",
       "      <th>10865</th>\n",
       "      <td>1019</td>\n",
       "      <td>Диана</td>\n",
       "      <td>25</td>\n",
       "      <td>Краснодар</td>\n",
       "      <td>free</td>\n",
       "      <td>216.259429</td>\n",
       "      <td>2.480577</td>\n",
       "      <td>2021-07-26</td>\n",
       "      <td>7</td>\n",
       "      <td>8</td>\n",
       "      <td>50</td>\n",
       "      <td>0</td>\n",
       "    </tr>\n",
       "    <tr>\n",
       "      <th>15733</th>\n",
       "      <td>1372</td>\n",
       "      <td>Святослав</td>\n",
       "      <td>28</td>\n",
       "      <td>Краснодар</td>\n",
       "      <td>free</td>\n",
       "      <td>992.778336</td>\n",
       "      <td>13.985557</td>\n",
       "      <td>2021-03-14</td>\n",
       "      <td>3</td>\n",
       "      <td>8</td>\n",
       "      <td>50</td>\n",
       "      <td>0</td>\n",
       "    </tr>\n",
       "    <tr>\n",
       "      <th>6523</th>\n",
       "      <td>701</td>\n",
       "      <td>Иван</td>\n",
       "      <td>31</td>\n",
       "      <td>Екатеринбург</td>\n",
       "      <td>free</td>\n",
       "      <td>2465.852577</td>\n",
       "      <td>14.283970</td>\n",
       "      <td>2021-05-31</td>\n",
       "      <td>5</td>\n",
       "      <td>8</td>\n",
       "      <td>50</td>\n",
       "      <td>0</td>\n",
       "    </tr>\n",
       "    <tr>\n",
       "      <th>17731</th>\n",
       "      <td>1511</td>\n",
       "      <td>Элина</td>\n",
       "      <td>27</td>\n",
       "      <td>Краснодар</td>\n",
       "      <td>free</td>\n",
       "      <td>3152.663856</td>\n",
       "      <td>21.566393</td>\n",
       "      <td>2021-08-02</td>\n",
       "      <td>8</td>\n",
       "      <td>8</td>\n",
       "      <td>50</td>\n",
       "      <td>0</td>\n",
       "    </tr>\n",
       "    <tr>\n",
       "      <th>12856</th>\n",
       "      <td>1164</td>\n",
       "      <td>Алёна</td>\n",
       "      <td>25</td>\n",
       "      <td>Омск</td>\n",
       "      <td>free</td>\n",
       "      <td>2496.649250</td>\n",
       "      <td>10.809043</td>\n",
       "      <td>2021-10-23</td>\n",
       "      <td>10</td>\n",
       "      <td>8</td>\n",
       "      <td>50</td>\n",
       "      <td>0</td>\n",
       "    </tr>\n",
       "    <tr>\n",
       "      <th>13554</th>\n",
       "      <td>1214</td>\n",
       "      <td>Савелий</td>\n",
       "      <td>25</td>\n",
       "      <td>Ростов-на-Дону</td>\n",
       "      <td>free</td>\n",
       "      <td>1046.654366</td>\n",
       "      <td>10.488848</td>\n",
       "      <td>2021-04-07</td>\n",
       "      <td>4</td>\n",
       "      <td>8</td>\n",
       "      <td>50</td>\n",
       "      <td>0</td>\n",
       "    </tr>\n",
       "    <tr>\n",
       "      <th>8795</th>\n",
       "      <td>871</td>\n",
       "      <td>Михаил</td>\n",
       "      <td>21</td>\n",
       "      <td>Екатеринбург</td>\n",
       "      <td>free</td>\n",
       "      <td>3746.705278</td>\n",
       "      <td>23.986821</td>\n",
       "      <td>2021-10-25</td>\n",
       "      <td>10</td>\n",
       "      <td>8</td>\n",
       "      <td>50</td>\n",
       "      <td>0</td>\n",
       "    </tr>\n",
       "    <tr>\n",
       "      <th>13008</th>\n",
       "      <td>1176</td>\n",
       "      <td>Владислав</td>\n",
       "      <td>30</td>\n",
       "      <td>Екатеринбург</td>\n",
       "      <td>free</td>\n",
       "      <td>3860.261078</td>\n",
       "      <td>20.029317</td>\n",
       "      <td>2021-03-11</td>\n",
       "      <td>3</td>\n",
       "      <td>8</td>\n",
       "      <td>50</td>\n",
       "      <td>0</td>\n",
       "    </tr>\n",
       "    <tr>\n",
       "      <th>13100</th>\n",
       "      <td>1182</td>\n",
       "      <td>Одиссей</td>\n",
       "      <td>26</td>\n",
       "      <td>Тюмень</td>\n",
       "      <td>free</td>\n",
       "      <td>1601.207055</td>\n",
       "      <td>11.404828</td>\n",
       "      <td>2021-12-15</td>\n",
       "      <td>12</td>\n",
       "      <td>8</td>\n",
       "      <td>50</td>\n",
       "      <td>0</td>\n",
       "    </tr>\n",
       "    <tr>\n",
       "      <th>16251</th>\n",
       "      <td>1406</td>\n",
       "      <td>Вероника</td>\n",
       "      <td>28</td>\n",
       "      <td>Ростов-на-Дону</td>\n",
       "      <td>free</td>\n",
       "      <td>3916.558156</td>\n",
       "      <td>25.368078</td>\n",
       "      <td>2021-12-30</td>\n",
       "      <td>12</td>\n",
       "      <td>8</td>\n",
       "      <td>50</td>\n",
       "      <td>0</td>\n",
       "    </tr>\n",
       "    <tr>\n",
       "      <th>17745</th>\n",
       "      <td>1512</td>\n",
       "      <td>Мария</td>\n",
       "      <td>18</td>\n",
       "      <td>Омск</td>\n",
       "      <td>free</td>\n",
       "      <td>537.084007</td>\n",
       "      <td>14.148336</td>\n",
       "      <td>2021-12-28</td>\n",
       "      <td>12</td>\n",
       "      <td>8</td>\n",
       "      <td>50</td>\n",
       "      <td>0</td>\n",
       "    </tr>\n",
       "    <tr>\n",
       "      <th>15545</th>\n",
       "      <td>1358</td>\n",
       "      <td>Владимир</td>\n",
       "      <td>23</td>\n",
       "      <td>Тюмень</td>\n",
       "      <td>free</td>\n",
       "      <td>4128.356946</td>\n",
       "      <td>18.541428</td>\n",
       "      <td>2021-12-01</td>\n",
       "      <td>12</td>\n",
       "      <td>8</td>\n",
       "      <td>50</td>\n",
       "      <td>0</td>\n",
       "    </tr>\n",
       "    <tr>\n",
       "      <th>17861</th>\n",
       "      <td>1521</td>\n",
       "      <td>Галина</td>\n",
       "      <td>26</td>\n",
       "      <td>Пятигорск</td>\n",
       "      <td>free</td>\n",
       "      <td>3242.322673</td>\n",
       "      <td>19.842698</td>\n",
       "      <td>2021-06-23</td>\n",
       "      <td>6</td>\n",
       "      <td>8</td>\n",
       "      <td>50</td>\n",
       "      <td>0</td>\n",
       "    </tr>\n",
       "    <tr>\n",
       "      <th>16374</th>\n",
       "      <td>1415</td>\n",
       "      <td>Илья</td>\n",
       "      <td>21</td>\n",
       "      <td>Краснодар</td>\n",
       "      <td>free</td>\n",
       "      <td>3689.342890</td>\n",
       "      <td>13.513868</td>\n",
       "      <td>2021-05-02</td>\n",
       "      <td>5</td>\n",
       "      <td>8</td>\n",
       "      <td>50</td>\n",
       "      <td>0</td>\n",
       "    </tr>\n",
       "    <tr>\n",
       "      <th>9361</th>\n",
       "      <td>913</td>\n",
       "      <td>Зарина</td>\n",
       "      <td>31</td>\n",
       "      <td>Тюмень</td>\n",
       "      <td>free</td>\n",
       "      <td>4599.937571</td>\n",
       "      <td>30.399750</td>\n",
       "      <td>2021-03-18</td>\n",
       "      <td>3</td>\n",
       "      <td>8</td>\n",
       "      <td>50</td>\n",
       "      <td>0</td>\n",
       "    </tr>\n",
       "  </tbody>\n",
       "</table>\n",
       "</div>"
      ],
      "text/plain": [
       "       user_id       name  age            city subscription_type     distance  \\\n",
       "10865     1019      Диана   25       Краснодар              free   216.259429   \n",
       "15733     1372  Святослав   28       Краснодар              free   992.778336   \n",
       "6523       701       Иван   31    Екатеринбург              free  2465.852577   \n",
       "17731     1511      Элина   27       Краснодар              free  3152.663856   \n",
       "12856     1164      Алёна   25            Омск              free  2496.649250   \n",
       "13554     1214    Савелий   25  Ростов-на-Дону              free  1046.654366   \n",
       "8795       871     Михаил   21    Екатеринбург              free  3746.705278   \n",
       "13008     1176  Владислав   30    Екатеринбург              free  3860.261078   \n",
       "13100     1182    Одиссей   26          Тюмень              free  1601.207055   \n",
       "16251     1406   Вероника   28  Ростов-на-Дону              free  3916.558156   \n",
       "17745     1512      Мария   18            Омск              free   537.084007   \n",
       "15545     1358   Владимир   23          Тюмень              free  4128.356946   \n",
       "17861     1521     Галина   26       Пятигорск              free  3242.322673   \n",
       "16374     1415       Илья   21       Краснодар              free  3689.342890   \n",
       "9361       913     Зарина   31          Тюмень              free  4599.937571   \n",
       "\n",
       "        duration       date  month  minute_price  start_ride_price  \\\n",
       "10865   2.480577 2021-07-26      7             8                50   \n",
       "15733  13.985557 2021-03-14      3             8                50   \n",
       "6523   14.283970 2021-05-31      5             8                50   \n",
       "17731  21.566393 2021-08-02      8             8                50   \n",
       "12856  10.809043 2021-10-23     10             8                50   \n",
       "13554  10.488848 2021-04-07      4             8                50   \n",
       "8795   23.986821 2021-10-25     10             8                50   \n",
       "13008  20.029317 2021-03-11      3             8                50   \n",
       "13100  11.404828 2021-12-15     12             8                50   \n",
       "16251  25.368078 2021-12-30     12             8                50   \n",
       "17745  14.148336 2021-12-28     12             8                50   \n",
       "15545  18.541428 2021-12-01     12             8                50   \n",
       "17861  19.842698 2021-06-23      6             8                50   \n",
       "16374  13.513868 2021-05-02      5             8                50   \n",
       "9361   30.399750 2021-03-18      3             8                50   \n",
       "\n",
       "       subscription_fee  \n",
       "10865                 0  \n",
       "15733                 0  \n",
       "6523                  0  \n",
       "17731                 0  \n",
       "12856                 0  \n",
       "13554                 0  \n",
       "8795                  0  \n",
       "13008                 0  \n",
       "13100                 0  \n",
       "16251                 0  \n",
       "17745                 0  \n",
       "15545                 0  \n",
       "17861                 0  \n",
       "16374                 0  \n",
       "9361                  0  "
      ]
     },
     "execution_count": 26,
     "metadata": {},
     "output_type": "execute_result"
    }
   ],
   "source": [
    "data_free = data.query('subscription_type == \"free\"')\n",
    "data_free.sample(15)"
   ]
  },
  {
   "cell_type": "code",
   "execution_count": 27,
   "id": "35cd0f6c",
   "metadata": {},
   "outputs": [
    {
     "data": {
      "text/html": [
       "<div>\n",
       "<style scoped>\n",
       "    .dataframe tbody tr th:only-of-type {\n",
       "        vertical-align: middle;\n",
       "    }\n",
       "\n",
       "    .dataframe tbody tr th {\n",
       "        vertical-align: top;\n",
       "    }\n",
       "\n",
       "    .dataframe thead th {\n",
       "        text-align: right;\n",
       "    }\n",
       "</style>\n",
       "<table border=\"1\" class=\"dataframe\">\n",
       "  <thead>\n",
       "    <tr style=\"text-align: right;\">\n",
       "      <th></th>\n",
       "      <th>user_id</th>\n",
       "      <th>name</th>\n",
       "      <th>age</th>\n",
       "      <th>city</th>\n",
       "      <th>subscription_type</th>\n",
       "      <th>distance</th>\n",
       "      <th>duration</th>\n",
       "      <th>date</th>\n",
       "      <th>month</th>\n",
       "      <th>minute_price</th>\n",
       "      <th>start_ride_price</th>\n",
       "      <th>subscription_fee</th>\n",
       "    </tr>\n",
       "  </thead>\n",
       "  <tbody>\n",
       "    <tr>\n",
       "      <th>4851</th>\n",
       "      <td>523</td>\n",
       "      <td>Ян</td>\n",
       "      <td>23</td>\n",
       "      <td>Тюмень</td>\n",
       "      <td>ultra</td>\n",
       "      <td>3251.640903</td>\n",
       "      <td>17.838803</td>\n",
       "      <td>2021-05-10</td>\n",
       "      <td>5</td>\n",
       "      <td>6</td>\n",
       "      <td>0</td>\n",
       "      <td>199</td>\n",
       "    </tr>\n",
       "    <tr>\n",
       "      <th>6405</th>\n",
       "      <td>688</td>\n",
       "      <td>Мирослава</td>\n",
       "      <td>26</td>\n",
       "      <td>Москва</td>\n",
       "      <td>ultra</td>\n",
       "      <td>4004.404223</td>\n",
       "      <td>23.348014</td>\n",
       "      <td>2021-12-04</td>\n",
       "      <td>12</td>\n",
       "      <td>6</td>\n",
       "      <td>0</td>\n",
       "      <td>199</td>\n",
       "    </tr>\n",
       "    <tr>\n",
       "      <th>5991</th>\n",
       "      <td>641</td>\n",
       "      <td>Артём</td>\n",
       "      <td>27</td>\n",
       "      <td>Краснодар</td>\n",
       "      <td>ultra</td>\n",
       "      <td>3135.474830</td>\n",
       "      <td>10.718875</td>\n",
       "      <td>2021-12-04</td>\n",
       "      <td>12</td>\n",
       "      <td>6</td>\n",
       "      <td>0</td>\n",
       "      <td>199</td>\n",
       "    </tr>\n",
       "    <tr>\n",
       "      <th>1924</th>\n",
       "      <td>208</td>\n",
       "      <td>Вадим</td>\n",
       "      <td>23</td>\n",
       "      <td>Пятигорск</td>\n",
       "      <td>ultra</td>\n",
       "      <td>4030.254499</td>\n",
       "      <td>13.338458</td>\n",
       "      <td>2021-09-01</td>\n",
       "      <td>9</td>\n",
       "      <td>6</td>\n",
       "      <td>0</td>\n",
       "      <td>199</td>\n",
       "    </tr>\n",
       "    <tr>\n",
       "      <th>555</th>\n",
       "      <td>61</td>\n",
       "      <td>Федор</td>\n",
       "      <td>32</td>\n",
       "      <td>Москва</td>\n",
       "      <td>ultra</td>\n",
       "      <td>3161.843766</td>\n",
       "      <td>27.971063</td>\n",
       "      <td>2021-05-29</td>\n",
       "      <td>5</td>\n",
       "      <td>6</td>\n",
       "      <td>0</td>\n",
       "      <td>199</td>\n",
       "    </tr>\n",
       "    <tr>\n",
       "      <th>194</th>\n",
       "      <td>20</td>\n",
       "      <td>Игорь</td>\n",
       "      <td>23</td>\n",
       "      <td>Омск</td>\n",
       "      <td>ultra</td>\n",
       "      <td>2871.785874</td>\n",
       "      <td>17.487143</td>\n",
       "      <td>2021-07-25</td>\n",
       "      <td>7</td>\n",
       "      <td>6</td>\n",
       "      <td>0</td>\n",
       "      <td>199</td>\n",
       "    </tr>\n",
       "    <tr>\n",
       "      <th>2461</th>\n",
       "      <td>262</td>\n",
       "      <td>Яна</td>\n",
       "      <td>27</td>\n",
       "      <td>Сочи</td>\n",
       "      <td>ultra</td>\n",
       "      <td>3320.789866</td>\n",
       "      <td>10.115978</td>\n",
       "      <td>2021-02-06</td>\n",
       "      <td>2</td>\n",
       "      <td>6</td>\n",
       "      <td>0</td>\n",
       "      <td>199</td>\n",
       "    </tr>\n",
       "    <tr>\n",
       "      <th>5599</th>\n",
       "      <td>597</td>\n",
       "      <td>Даниэль</td>\n",
       "      <td>30</td>\n",
       "      <td>Ростов-на-Дону</td>\n",
       "      <td>ultra</td>\n",
       "      <td>2472.296510</td>\n",
       "      <td>10.115096</td>\n",
       "      <td>2021-05-06</td>\n",
       "      <td>5</td>\n",
       "      <td>6</td>\n",
       "      <td>0</td>\n",
       "      <td>199</td>\n",
       "    </tr>\n",
       "    <tr>\n",
       "      <th>2704</th>\n",
       "      <td>288</td>\n",
       "      <td>Евгений</td>\n",
       "      <td>24</td>\n",
       "      <td>Екатеринбург</td>\n",
       "      <td>ultra</td>\n",
       "      <td>3223.545341</td>\n",
       "      <td>18.179617</td>\n",
       "      <td>2021-09-24</td>\n",
       "      <td>9</td>\n",
       "      <td>6</td>\n",
       "      <td>0</td>\n",
       "      <td>199</td>\n",
       "    </tr>\n",
       "    <tr>\n",
       "      <th>6274</th>\n",
       "      <td>672</td>\n",
       "      <td>Демид</td>\n",
       "      <td>28</td>\n",
       "      <td>Екатеринбург</td>\n",
       "      <td>ultra</td>\n",
       "      <td>4514.246648</td>\n",
       "      <td>27.056987</td>\n",
       "      <td>2021-03-25</td>\n",
       "      <td>3</td>\n",
       "      <td>6</td>\n",
       "      <td>0</td>\n",
       "      <td>199</td>\n",
       "    </tr>\n",
       "    <tr>\n",
       "      <th>4011</th>\n",
       "      <td>432</td>\n",
       "      <td>Мадина</td>\n",
       "      <td>21</td>\n",
       "      <td>Омск</td>\n",
       "      <td>ultra</td>\n",
       "      <td>2701.124921</td>\n",
       "      <td>14.588534</td>\n",
       "      <td>2021-12-12</td>\n",
       "      <td>12</td>\n",
       "      <td>6</td>\n",
       "      <td>0</td>\n",
       "      <td>199</td>\n",
       "    </tr>\n",
       "    <tr>\n",
       "      <th>5114</th>\n",
       "      <td>550</td>\n",
       "      <td>Инна</td>\n",
       "      <td>28</td>\n",
       "      <td>Москва</td>\n",
       "      <td>ultra</td>\n",
       "      <td>2787.885201</td>\n",
       "      <td>12.292951</td>\n",
       "      <td>2021-06-21</td>\n",
       "      <td>6</td>\n",
       "      <td>6</td>\n",
       "      <td>0</td>\n",
       "      <td>199</td>\n",
       "    </tr>\n",
       "    <tr>\n",
       "      <th>1235</th>\n",
       "      <td>133</td>\n",
       "      <td>Дмитрий</td>\n",
       "      <td>23</td>\n",
       "      <td>Омск</td>\n",
       "      <td>ultra</td>\n",
       "      <td>5179.019217</td>\n",
       "      <td>19.097898</td>\n",
       "      <td>2021-03-27</td>\n",
       "      <td>3</td>\n",
       "      <td>6</td>\n",
       "      <td>0</td>\n",
       "      <td>199</td>\n",
       "    </tr>\n",
       "    <tr>\n",
       "      <th>5821</th>\n",
       "      <td>619</td>\n",
       "      <td>Кристина</td>\n",
       "      <td>29</td>\n",
       "      <td>Екатеринбург</td>\n",
       "      <td>ultra</td>\n",
       "      <td>2955.251037</td>\n",
       "      <td>16.821004</td>\n",
       "      <td>2021-12-23</td>\n",
       "      <td>12</td>\n",
       "      <td>6</td>\n",
       "      <td>0</td>\n",
       "      <td>199</td>\n",
       "    </tr>\n",
       "    <tr>\n",
       "      <th>1144</th>\n",
       "      <td>122</td>\n",
       "      <td>Глеб</td>\n",
       "      <td>29</td>\n",
       "      <td>Пятигорск</td>\n",
       "      <td>ultra</td>\n",
       "      <td>3084.892740</td>\n",
       "      <td>22.826688</td>\n",
       "      <td>2021-12-22</td>\n",
       "      <td>12</td>\n",
       "      <td>6</td>\n",
       "      <td>0</td>\n",
       "      <td>199</td>\n",
       "    </tr>\n",
       "  </tbody>\n",
       "</table>\n",
       "</div>"
      ],
      "text/plain": [
       "      user_id       name  age            city subscription_type     distance  \\\n",
       "4851      523         Ян   23          Тюмень             ultra  3251.640903   \n",
       "6405      688  Мирослава   26          Москва             ultra  4004.404223   \n",
       "5991      641      Артём   27       Краснодар             ultra  3135.474830   \n",
       "1924      208      Вадим   23       Пятигорск             ultra  4030.254499   \n",
       "555        61      Федор   32          Москва             ultra  3161.843766   \n",
       "194        20      Игорь   23            Омск             ultra  2871.785874   \n",
       "2461      262        Яна   27            Сочи             ultra  3320.789866   \n",
       "5599      597    Даниэль   30  Ростов-на-Дону             ultra  2472.296510   \n",
       "2704      288    Евгений   24    Екатеринбург             ultra  3223.545341   \n",
       "6274      672      Демид   28    Екатеринбург             ultra  4514.246648   \n",
       "4011      432     Мадина   21            Омск             ultra  2701.124921   \n",
       "5114      550       Инна   28          Москва             ultra  2787.885201   \n",
       "1235      133    Дмитрий   23            Омск             ultra  5179.019217   \n",
       "5821      619   Кристина   29    Екатеринбург             ultra  2955.251037   \n",
       "1144      122       Глеб   29       Пятигорск             ultra  3084.892740   \n",
       "\n",
       "       duration       date  month  minute_price  start_ride_price  \\\n",
       "4851  17.838803 2021-05-10      5             6                 0   \n",
       "6405  23.348014 2021-12-04     12             6                 0   \n",
       "5991  10.718875 2021-12-04     12             6                 0   \n",
       "1924  13.338458 2021-09-01      9             6                 0   \n",
       "555   27.971063 2021-05-29      5             6                 0   \n",
       "194   17.487143 2021-07-25      7             6                 0   \n",
       "2461  10.115978 2021-02-06      2             6                 0   \n",
       "5599  10.115096 2021-05-06      5             6                 0   \n",
       "2704  18.179617 2021-09-24      9             6                 0   \n",
       "6274  27.056987 2021-03-25      3             6                 0   \n",
       "4011  14.588534 2021-12-12     12             6                 0   \n",
       "5114  12.292951 2021-06-21      6             6                 0   \n",
       "1235  19.097898 2021-03-27      3             6                 0   \n",
       "5821  16.821004 2021-12-23     12             6                 0   \n",
       "1144  22.826688 2021-12-22     12             6                 0   \n",
       "\n",
       "      subscription_fee  \n",
       "4851               199  \n",
       "6405               199  \n",
       "5991               199  \n",
       "1924               199  \n",
       "555                199  \n",
       "194                199  \n",
       "2461               199  \n",
       "5599               199  \n",
       "2704               199  \n",
       "6274               199  \n",
       "4011               199  \n",
       "5114               199  \n",
       "1235               199  \n",
       "5821               199  \n",
       "1144               199  "
      ]
     },
     "execution_count": 27,
     "metadata": {},
     "output_type": "execute_result"
    }
   ],
   "source": [
    "data_ultra = data.query('subscription_type == \"ultra\"')\n",
    "data_ultra.sample(15)"
   ]
  },
  {
   "cell_type": "markdown",
   "id": "cf026630",
   "metadata": {},
   "source": [
    "### Визуализируйте информацию о расстоянии и времени поездок для пользователей обеих категорий."
   ]
  },
  {
   "cell_type": "code",
   "execution_count": 28,
   "id": "cfff3c5d",
   "metadata": {},
   "outputs": [
    {
     "data": {
      "image/png": "[encoded data removed]",
      "text/plain": [
       "<Figure size 1000x500 with 2 Axes>"
      ]
     },
     "metadata": {},
     "output_type": "display_data"
    }
   ],
   "source": [
    "fig, ax = plt.subplots(nrows=1, ncols=2, figsize=(10, 5))\n",
    "fig.suptitle('Расстояние поездок пользователей с подпиской и без', fontsize=15)\n",
    "ax[0].hist(data_free.distance, bins=30)\n",
    "ax[0].set_title('Без подписки')\n",
    "ax[0].set_xlabel('Расстояние в метрах')\n",
    "ax[0].set_ylabel('Количество поездок')\n",
    "ax[0].grid(linestyle='--', linewidth=0.7)\n",
    "ax[1].hist(data_ultra.distance, bins=30)\n",
    "ax[1].set_title('С подпиской')\n",
    "ax[1].set_xlabel('Расстояние в метрах')\n",
    "ax[1].set_ylabel('Количество поездок')\n",
    "ax[1].grid(linestyle='--', linewidth=0.7)\n",
    "plt.show()"
   ]
  },
  {
   "cell_type": "markdown",
   "id": "2466bfd0",
   "metadata": {},
   "source": [
    "#### Вывод\n",
    "Графики расстояния поездок пользователей без платной подписки и с подпиской имеют схожее распределение, близкое к нормальному. Они имеют схожий пик количества поездок около 3000 метров."
   ]
  },
  {
   "cell_type": "code",
   "execution_count": 29,
   "id": "d8528573",
   "metadata": {},
   "outputs": [
    {
     "data": {
      "image/png": "[encoded data removed]",
      "text/plain": [
       "<Figure size 1000x500 with 2 Axes>"
      ]
     },
     "metadata": {},
     "output_type": "display_data"
    }
   ],
   "source": [
    "fig, ax = plt.subplots(nrows=1, ncols=2, figsize=(10, 5))\n",
    "fig.suptitle('Продолжительность поездок пользователей с подпиской и без',\n",
    "             fontsize=15)\n",
    "ax[0].hist(data_free.duration, bins=30)\n",
    "ax[0].set_title('Без подписки')\n",
    "ax[0].set_xlabel('Длительность поездки в минутах')\n",
    "ax[0].set_ylabel('Количество поездок')\n",
    "ax[0].grid(linestyle='--', linewidth=0.7)\n",
    "ax[1].hist(data_ultra.duration, bins=30)\n",
    "ax[1].set_title('С подпиской')\n",
    "ax[1].set_xlabel('Длительность поездки в минутах')\n",
    "ax[1].set_ylabel('Количество поездок')\n",
    "ax[1].grid(linestyle='--', linewidth=0.7)\n",
    "plt.show()"
   ]
  },
  {
   "cell_type": "markdown",
   "id": "e60560ca",
   "metadata": {},
   "source": [
    "#### Вывод\n",
    "Графики продолжительности поездок пользователей без платной подписки и с подпиской имеют схожее распределение, близкое к нормальному. Они имеют схожий пик количества поездок около 17 метров."
   ]
  },
  {
   "cell_type": "markdown",
   "id": "2b505e10",
   "metadata": {},
   "source": [
    "### Вывод"
   ]
  },
  {
   "cell_type": "markdown",
   "id": "0ad08855",
   "metadata": {},
   "source": [
    "* Создал датафрейм data с объединенными данными о пользователях, поездках и подписках.\n",
    "* Создал два дополнительных датафрейма data_ultra и data_free с данными о пользователях с подпиской и без\n",
    "* Построил графики для визуализации информации о расстоянии и времени поездок для пользователей обеих категорий"
   ]
  },
  {
   "cell_type": "markdown",
   "id": "402d620f",
   "metadata": {},
   "source": [
    "## Подсчёт выручки"
   ]
  },
  {
   "cell_type": "markdown",
   "id": "2a87ec42",
   "metadata": {},
   "source": [
    "### Создание датафрейма с данными о суммарном расстоянии, количестве поездок и суммарном времени для каждого пользователя за каждый месяц"
   ]
  },
  {
   "cell_type": "code",
   "execution_count": 30,
   "id": "ce2688ac",
   "metadata": {},
   "outputs": [
    {
     "data": {
      "text/html": [
       "<div>\n",
       "<style scoped>\n",
       "    .dataframe tbody tr th:only-of-type {\n",
       "        vertical-align: middle;\n",
       "    }\n",
       "\n",
       "    .dataframe tbody tr th {\n",
       "        vertical-align: top;\n",
       "    }\n",
       "\n",
       "    .dataframe thead th {\n",
       "        text-align: right;\n",
       "    }\n",
       "</style>\n",
       "<table border=\"1\" class=\"dataframe\">\n",
       "  <thead>\n",
       "    <tr style=\"text-align: right;\">\n",
       "      <th></th>\n",
       "      <th>user_id</th>\n",
       "      <th>month</th>\n",
       "      <th>sum_distance</th>\n",
       "      <th>sum_duration</th>\n",
       "      <th>count</th>\n",
       "    </tr>\n",
       "  </thead>\n",
       "  <tbody>\n",
       "    <tr>\n",
       "      <th>0</th>\n",
       "      <td>1</td>\n",
       "      <td>1</td>\n",
       "      <td>7027.511294</td>\n",
       "      <td>42.0</td>\n",
       "      <td>2</td>\n",
       "    </tr>\n",
       "    <tr>\n",
       "      <th>1</th>\n",
       "      <td>1</td>\n",
       "      <td>4</td>\n",
       "      <td>754.159807</td>\n",
       "      <td>7.0</td>\n",
       "      <td>1</td>\n",
       "    </tr>\n",
       "    <tr>\n",
       "      <th>2</th>\n",
       "      <td>1</td>\n",
       "      <td>8</td>\n",
       "      <td>6723.470560</td>\n",
       "      <td>46.0</td>\n",
       "      <td>2</td>\n",
       "    </tr>\n",
       "    <tr>\n",
       "      <th>3</th>\n",
       "      <td>1</td>\n",
       "      <td>10</td>\n",
       "      <td>5809.911100</td>\n",
       "      <td>32.0</td>\n",
       "      <td>2</td>\n",
       "    </tr>\n",
       "    <tr>\n",
       "      <th>4</th>\n",
       "      <td>1</td>\n",
       "      <td>11</td>\n",
       "      <td>7003.499363</td>\n",
       "      <td>56.0</td>\n",
       "      <td>3</td>\n",
       "    </tr>\n",
       "    <tr>\n",
       "      <th>5</th>\n",
       "      <td>1</td>\n",
       "      <td>12</td>\n",
       "      <td>6751.629942</td>\n",
       "      <td>28.0</td>\n",
       "      <td>2</td>\n",
       "    </tr>\n",
       "    <tr>\n",
       "      <th>6</th>\n",
       "      <td>2</td>\n",
       "      <td>3</td>\n",
       "      <td>10187.723006</td>\n",
       "      <td>63.0</td>\n",
       "      <td>3</td>\n",
       "    </tr>\n",
       "    <tr>\n",
       "      <th>7</th>\n",
       "      <td>2</td>\n",
       "      <td>4</td>\n",
       "      <td>6164.381824</td>\n",
       "      <td>40.0</td>\n",
       "      <td>2</td>\n",
       "    </tr>\n",
       "    <tr>\n",
       "      <th>8</th>\n",
       "      <td>2</td>\n",
       "      <td>6</td>\n",
       "      <td>3255.338202</td>\n",
       "      <td>14.0</td>\n",
       "      <td>1</td>\n",
       "    </tr>\n",
       "    <tr>\n",
       "      <th>9</th>\n",
       "      <td>2</td>\n",
       "      <td>7</td>\n",
       "      <td>6780.722964</td>\n",
       "      <td>48.0</td>\n",
       "      <td>2</td>\n",
       "    </tr>\n",
       "    <tr>\n",
       "      <th>10</th>\n",
       "      <td>2</td>\n",
       "      <td>8</td>\n",
       "      <td>923.007439</td>\n",
       "      <td>7.0</td>\n",
       "      <td>1</td>\n",
       "    </tr>\n",
       "    <tr>\n",
       "      <th>11</th>\n",
       "      <td>2</td>\n",
       "      <td>10</td>\n",
       "      <td>2824.636598</td>\n",
       "      <td>19.0</td>\n",
       "      <td>1</td>\n",
       "    </tr>\n",
       "    <tr>\n",
       "      <th>12</th>\n",
       "      <td>2</td>\n",
       "      <td>12</td>\n",
       "      <td>3828.248580</td>\n",
       "      <td>12.0</td>\n",
       "      <td>1</td>\n",
       "    </tr>\n",
       "    <tr>\n",
       "      <th>13</th>\n",
       "      <td>3</td>\n",
       "      <td>1</td>\n",
       "      <td>3061.777147</td>\n",
       "      <td>13.0</td>\n",
       "      <td>1</td>\n",
       "    </tr>\n",
       "    <tr>\n",
       "      <th>14</th>\n",
       "      <td>3</td>\n",
       "      <td>2</td>\n",
       "      <td>5421.152016</td>\n",
       "      <td>39.0</td>\n",
       "      <td>2</td>\n",
       "    </tr>\n",
       "  </tbody>\n",
       "</table>\n",
       "</div>"
      ],
      "text/plain": [
       "    user_id  month  sum_distance  sum_duration  count\n",
       "0         1      1   7027.511294          42.0      2\n",
       "1         1      4    754.159807           7.0      1\n",
       "2         1      8   6723.470560          46.0      2\n",
       "3         1     10   5809.911100          32.0      2\n",
       "4         1     11   7003.499363          56.0      3\n",
       "5         1     12   6751.629942          28.0      2\n",
       "6         2      3  10187.723006          63.0      3\n",
       "7         2      4   6164.381824          40.0      2\n",
       "8         2      6   3255.338202          14.0      1\n",
       "9         2      7   6780.722964          48.0      2\n",
       "10        2      8    923.007439           7.0      1\n",
       "11        2     10   2824.636598          19.0      1\n",
       "12        2     12   3828.248580          12.0      1\n",
       "13        3      1   3061.777147          13.0      1\n",
       "14        3      2   5421.152016          39.0      2"
      ]
     },
     "execution_count": 30,
     "metadata": {},
     "output_type": "execute_result"
    }
   ],
   "source": [
    "data['duration'] = np.ceil(data['duration']) \n",
    "data_agg = data.pivot_table(index=['user_id', 'month'], values=['distance', 'duration'], aggfunc=['sum', 'count'])\n",
    "data_agg.columns = ['sum_distance', 'sum_duration', 'count', 'drop']\n",
    "data_agg.drop(columns='drop', inplace=True)\n",
    "data_agg = data_agg.reset_index()\n",
    "data_agg.head(15)"
   ]
  },
  {
   "cell_type": "markdown",
   "id": "caeb0bda",
   "metadata": {},
   "source": [
    "### Добавление столбца с суммарной выручкой от каждого пользователя за каждый месяц"
   ]
  },
  {
   "cell_type": "code",
   "execution_count": 31,
   "id": "f8a19ba7",
   "metadata": {},
   "outputs": [
    {
     "data": {
      "text/html": [
       "<div>\n",
       "<style scoped>\n",
       "    .dataframe tbody tr th:only-of-type {\n",
       "        vertical-align: middle;\n",
       "    }\n",
       "\n",
       "    .dataframe tbody tr th {\n",
       "        vertical-align: top;\n",
       "    }\n",
       "\n",
       "    .dataframe thead th {\n",
       "        text-align: right;\n",
       "    }\n",
       "</style>\n",
       "<table border=\"1\" class=\"dataframe\">\n",
       "  <thead>\n",
       "    <tr style=\"text-align: right;\">\n",
       "      <th></th>\n",
       "      <th>user_id</th>\n",
       "      <th>month</th>\n",
       "      <th>sum_distance</th>\n",
       "      <th>sum_duration</th>\n",
       "      <th>count</th>\n",
       "      <th>subscription_type</th>\n",
       "    </tr>\n",
       "  </thead>\n",
       "  <tbody>\n",
       "    <tr>\n",
       "      <th>4443</th>\n",
       "      <td>684</td>\n",
       "      <td>12</td>\n",
       "      <td>3531.683822</td>\n",
       "      <td>25.0</td>\n",
       "      <td>1</td>\n",
       "      <td>ultra</td>\n",
       "    </tr>\n",
       "    <tr>\n",
       "      <th>2632</th>\n",
       "      <td>404</td>\n",
       "      <td>1</td>\n",
       "      <td>4052.521458</td>\n",
       "      <td>21.0</td>\n",
       "      <td>1</td>\n",
       "      <td>ultra</td>\n",
       "    </tr>\n",
       "    <tr>\n",
       "      <th>11219</th>\n",
       "      <td>1522</td>\n",
       "      <td>9</td>\n",
       "      <td>217.943366</td>\n",
       "      <td>15.0</td>\n",
       "      <td>1</td>\n",
       "      <td>free</td>\n",
       "    </tr>\n",
       "    <tr>\n",
       "      <th>7185</th>\n",
       "      <td>1029</td>\n",
       "      <td>10</td>\n",
       "      <td>1144.673184</td>\n",
       "      <td>22.0</td>\n",
       "      <td>2</td>\n",
       "      <td>free</td>\n",
       "    </tr>\n",
       "    <tr>\n",
       "      <th>8485</th>\n",
       "      <td>1190</td>\n",
       "      <td>2</td>\n",
       "      <td>3654.275943</td>\n",
       "      <td>22.0</td>\n",
       "      <td>1</td>\n",
       "      <td>free</td>\n",
       "    </tr>\n",
       "    <tr>\n",
       "      <th>5914</th>\n",
       "      <td>875</td>\n",
       "      <td>11</td>\n",
       "      <td>4019.423129</td>\n",
       "      <td>21.0</td>\n",
       "      <td>1</td>\n",
       "      <td>free</td>\n",
       "    </tr>\n",
       "    <tr>\n",
       "      <th>9249</th>\n",
       "      <td>1279</td>\n",
       "      <td>7</td>\n",
       "      <td>3817.610723</td>\n",
       "      <td>16.0</td>\n",
       "      <td>1</td>\n",
       "      <td>free</td>\n",
       "    </tr>\n",
       "    <tr>\n",
       "      <th>6168</th>\n",
       "      <td>907</td>\n",
       "      <td>2</td>\n",
       "      <td>1549.918779</td>\n",
       "      <td>17.0</td>\n",
       "      <td>1</td>\n",
       "      <td>free</td>\n",
       "    </tr>\n",
       "    <tr>\n",
       "      <th>5493</th>\n",
       "      <td>822</td>\n",
       "      <td>5</td>\n",
       "      <td>4277.877875</td>\n",
       "      <td>21.0</td>\n",
       "      <td>1</td>\n",
       "      <td>free</td>\n",
       "    </tr>\n",
       "    <tr>\n",
       "      <th>2181</th>\n",
       "      <td>335</td>\n",
       "      <td>4</td>\n",
       "      <td>6678.912676</td>\n",
       "      <td>43.0</td>\n",
       "      <td>2</td>\n",
       "      <td>ultra</td>\n",
       "    </tr>\n",
       "    <tr>\n",
       "      <th>8814</th>\n",
       "      <td>1228</td>\n",
       "      <td>2</td>\n",
       "      <td>7518.345564</td>\n",
       "      <td>45.0</td>\n",
       "      <td>2</td>\n",
       "      <td>free</td>\n",
       "    </tr>\n",
       "    <tr>\n",
       "      <th>852</th>\n",
       "      <td>132</td>\n",
       "      <td>4</td>\n",
       "      <td>1147.487204</td>\n",
       "      <td>11.0</td>\n",
       "      <td>1</td>\n",
       "      <td>ultra</td>\n",
       "    </tr>\n",
       "    <tr>\n",
       "      <th>9060</th>\n",
       "      <td>1257</td>\n",
       "      <td>3</td>\n",
       "      <td>9310.055951</td>\n",
       "      <td>13.0</td>\n",
       "      <td>2</td>\n",
       "      <td>free</td>\n",
       "    </tr>\n",
       "    <tr>\n",
       "      <th>2256</th>\n",
       "      <td>347</td>\n",
       "      <td>8</td>\n",
       "      <td>2724.346666</td>\n",
       "      <td>10.0</td>\n",
       "      <td>1</td>\n",
       "      <td>ultra</td>\n",
       "    </tr>\n",
       "    <tr>\n",
       "      <th>3559</th>\n",
       "      <td>546</td>\n",
       "      <td>4</td>\n",
       "      <td>9266.093532</td>\n",
       "      <td>51.0</td>\n",
       "      <td>3</td>\n",
       "      <td>ultra</td>\n",
       "    </tr>\n",
       "  </tbody>\n",
       "</table>\n",
       "</div>"
      ],
      "text/plain": [
       "       user_id  month  sum_distance  sum_duration  count subscription_type\n",
       "4443       684     12   3531.683822          25.0      1             ultra\n",
       "2632       404      1   4052.521458          21.0      1             ultra\n",
       "11219     1522      9    217.943366          15.0      1              free\n",
       "7185      1029     10   1144.673184          22.0      2              free\n",
       "8485      1190      2   3654.275943          22.0      1              free\n",
       "5914       875     11   4019.423129          21.0      1              free\n",
       "9249      1279      7   3817.610723          16.0      1              free\n",
       "6168       907      2   1549.918779          17.0      1              free\n",
       "5493       822      5   4277.877875          21.0      1              free\n",
       "2181       335      4   6678.912676          43.0      2             ultra\n",
       "8814      1228      2   7518.345564          45.0      2              free\n",
       "852        132      4   1147.487204          11.0      1             ultra\n",
       "9060      1257      3   9310.055951          13.0      2              free\n",
       "2256       347      8   2724.346666          10.0      1             ultra\n",
       "3559       546      4   9266.093532          51.0      3             ultra"
      ]
     },
     "execution_count": 31,
     "metadata": {},
     "output_type": "execute_result"
    }
   ],
   "source": [
    "data_agg = data_agg.merge(users_go[['user_id', 'subscription_type']], on='user_id')\n",
    "data_agg.sample(15)"
   ]
  },
  {
   "cell_type": "code",
   "execution_count": 32,
   "id": "f3b8b0e4",
   "metadata": {},
   "outputs": [],
   "source": [
    "def get_month_gain(row):\n",
    "    if row['subscription_type'] == 'free':\n",
    "        month_gain = (row['count'] * subscriptions_go.start_ride_price[0] +\n",
    "                      row['sum_duration'] * subscriptions_go.minute_price[0] +\n",
    "                      subscriptions_go.subscription_fee[0])\n",
    "        return month_gain\n",
    "    if row['subscription_type'] == 'ultra':\n",
    "        month_gain = (row['count'] * subscriptions_go.start_ride_price[1] +\n",
    "                      row['sum_duration'] * subscriptions_go.minute_price[1] +\n",
    "                      subscriptions_go.subscription_fee[1])\n",
    "        return month_gain"
   ]
  },
  {
   "cell_type": "code",
   "execution_count": 33,
   "id": "1ff8def6",
   "metadata": {},
   "outputs": [
    {
     "data": {
      "text/html": [
       "<div>\n",
       "<style scoped>\n",
       "    .dataframe tbody tr th:only-of-type {\n",
       "        vertical-align: middle;\n",
       "    }\n",
       "\n",
       "    .dataframe tbody tr th {\n",
       "        vertical-align: top;\n",
       "    }\n",
       "\n",
       "    .dataframe thead th {\n",
       "        text-align: right;\n",
       "    }\n",
       "</style>\n",
       "<table border=\"1\" class=\"dataframe\">\n",
       "  <thead>\n",
       "    <tr style=\"text-align: right;\">\n",
       "      <th></th>\n",
       "      <th>user_id</th>\n",
       "      <th>month</th>\n",
       "      <th>sum_distance</th>\n",
       "      <th>sum_duration</th>\n",
       "      <th>count</th>\n",
       "      <th>subscription_type</th>\n",
       "      <th>month_gain</th>\n",
       "    </tr>\n",
       "  </thead>\n",
       "  <tbody>\n",
       "    <tr>\n",
       "      <th>0</th>\n",
       "      <td>1</td>\n",
       "      <td>1</td>\n",
       "      <td>7027.511294</td>\n",
       "      <td>42.0</td>\n",
       "      <td>2</td>\n",
       "      <td>ultra</td>\n",
       "      <td>451.0</td>\n",
       "    </tr>\n",
       "    <tr>\n",
       "      <th>1</th>\n",
       "      <td>1</td>\n",
       "      <td>4</td>\n",
       "      <td>754.159807</td>\n",
       "      <td>7.0</td>\n",
       "      <td>1</td>\n",
       "      <td>ultra</td>\n",
       "      <td>241.0</td>\n",
       "    </tr>\n",
       "    <tr>\n",
       "      <th>2</th>\n",
       "      <td>1</td>\n",
       "      <td>8</td>\n",
       "      <td>6723.470560</td>\n",
       "      <td>46.0</td>\n",
       "      <td>2</td>\n",
       "      <td>ultra</td>\n",
       "      <td>475.0</td>\n",
       "    </tr>\n",
       "    <tr>\n",
       "      <th>3</th>\n",
       "      <td>1</td>\n",
       "      <td>10</td>\n",
       "      <td>5809.911100</td>\n",
       "      <td>32.0</td>\n",
       "      <td>2</td>\n",
       "      <td>ultra</td>\n",
       "      <td>391.0</td>\n",
       "    </tr>\n",
       "    <tr>\n",
       "      <th>4</th>\n",
       "      <td>1</td>\n",
       "      <td>11</td>\n",
       "      <td>7003.499363</td>\n",
       "      <td>56.0</td>\n",
       "      <td>3</td>\n",
       "      <td>ultra</td>\n",
       "      <td>535.0</td>\n",
       "    </tr>\n",
       "    <tr>\n",
       "      <th>5</th>\n",
       "      <td>1</td>\n",
       "      <td>12</td>\n",
       "      <td>6751.629942</td>\n",
       "      <td>28.0</td>\n",
       "      <td>2</td>\n",
       "      <td>ultra</td>\n",
       "      <td>367.0</td>\n",
       "    </tr>\n",
       "    <tr>\n",
       "      <th>6</th>\n",
       "      <td>2</td>\n",
       "      <td>3</td>\n",
       "      <td>10187.723006</td>\n",
       "      <td>63.0</td>\n",
       "      <td>3</td>\n",
       "      <td>ultra</td>\n",
       "      <td>577.0</td>\n",
       "    </tr>\n",
       "    <tr>\n",
       "      <th>7</th>\n",
       "      <td>2</td>\n",
       "      <td>4</td>\n",
       "      <td>6164.381824</td>\n",
       "      <td>40.0</td>\n",
       "      <td>2</td>\n",
       "      <td>ultra</td>\n",
       "      <td>439.0</td>\n",
       "    </tr>\n",
       "    <tr>\n",
       "      <th>8</th>\n",
       "      <td>2</td>\n",
       "      <td>6</td>\n",
       "      <td>3255.338202</td>\n",
       "      <td>14.0</td>\n",
       "      <td>1</td>\n",
       "      <td>ultra</td>\n",
       "      <td>283.0</td>\n",
       "    </tr>\n",
       "    <tr>\n",
       "      <th>9</th>\n",
       "      <td>2</td>\n",
       "      <td>7</td>\n",
       "      <td>6780.722964</td>\n",
       "      <td>48.0</td>\n",
       "      <td>2</td>\n",
       "      <td>ultra</td>\n",
       "      <td>487.0</td>\n",
       "    </tr>\n",
       "    <tr>\n",
       "      <th>10</th>\n",
       "      <td>2</td>\n",
       "      <td>8</td>\n",
       "      <td>923.007439</td>\n",
       "      <td>7.0</td>\n",
       "      <td>1</td>\n",
       "      <td>ultra</td>\n",
       "      <td>241.0</td>\n",
       "    </tr>\n",
       "    <tr>\n",
       "      <th>11</th>\n",
       "      <td>2</td>\n",
       "      <td>10</td>\n",
       "      <td>2824.636598</td>\n",
       "      <td>19.0</td>\n",
       "      <td>1</td>\n",
       "      <td>ultra</td>\n",
       "      <td>313.0</td>\n",
       "    </tr>\n",
       "    <tr>\n",
       "      <th>12</th>\n",
       "      <td>2</td>\n",
       "      <td>12</td>\n",
       "      <td>3828.248580</td>\n",
       "      <td>12.0</td>\n",
       "      <td>1</td>\n",
       "      <td>ultra</td>\n",
       "      <td>271.0</td>\n",
       "    </tr>\n",
       "    <tr>\n",
       "      <th>13</th>\n",
       "      <td>3</td>\n",
       "      <td>1</td>\n",
       "      <td>3061.777147</td>\n",
       "      <td>13.0</td>\n",
       "      <td>1</td>\n",
       "      <td>ultra</td>\n",
       "      <td>277.0</td>\n",
       "    </tr>\n",
       "    <tr>\n",
       "      <th>14</th>\n",
       "      <td>3</td>\n",
       "      <td>2</td>\n",
       "      <td>5421.152016</td>\n",
       "      <td>39.0</td>\n",
       "      <td>2</td>\n",
       "      <td>ultra</td>\n",
       "      <td>433.0</td>\n",
       "    </tr>\n",
       "  </tbody>\n",
       "</table>\n",
       "</div>"
      ],
      "text/plain": [
       "    user_id  month  sum_distance  sum_duration  count subscription_type  \\\n",
       "0         1      1   7027.511294          42.0      2             ultra   \n",
       "1         1      4    754.159807           7.0      1             ultra   \n",
       "2         1      8   6723.470560          46.0      2             ultra   \n",
       "3         1     10   5809.911100          32.0      2             ultra   \n",
       "4         1     11   7003.499363          56.0      3             ultra   \n",
       "5         1     12   6751.629942          28.0      2             ultra   \n",
       "6         2      3  10187.723006          63.0      3             ultra   \n",
       "7         2      4   6164.381824          40.0      2             ultra   \n",
       "8         2      6   3255.338202          14.0      1             ultra   \n",
       "9         2      7   6780.722964          48.0      2             ultra   \n",
       "10        2      8    923.007439           7.0      1             ultra   \n",
       "11        2     10   2824.636598          19.0      1             ultra   \n",
       "12        2     12   3828.248580          12.0      1             ultra   \n",
       "13        3      1   3061.777147          13.0      1             ultra   \n",
       "14        3      2   5421.152016          39.0      2             ultra   \n",
       "\n",
       "    month_gain  \n",
       "0        451.0  \n",
       "1        241.0  \n",
       "2        475.0  \n",
       "3        391.0  \n",
       "4        535.0  \n",
       "5        367.0  \n",
       "6        577.0  \n",
       "7        439.0  \n",
       "8        283.0  \n",
       "9        487.0  \n",
       "10       241.0  \n",
       "11       313.0  \n",
       "12       271.0  \n",
       "13       277.0  \n",
       "14       433.0  "
      ]
     },
     "execution_count": 33,
     "metadata": {},
     "output_type": "execute_result"
    }
   ],
   "source": [
    "data_agg['month_gain'] = data_agg.apply(get_month_gain, axis=1)\n",
    "data_agg.head(15)"
   ]
  },
  {
   "cell_type": "markdown",
   "id": "99b5578e",
   "metadata": {},
   "source": [
    "### Вывод"
   ]
  },
  {
   "cell_type": "markdown",
   "id": "7bae85bf",
   "metadata": {},
   "source": [
    "* Создал датафрейм data_agg c данными о суммарном расстоянии, количестве поездок и суммарном времени для каждого пользователя за каждый месяц\n",
    "* Добавил в data_agg столбец с месячной выручкой от каждого пользователя за каждый месяц"
   ]
  },
  {
   "cell_type": "markdown",
   "id": "41545ac0",
   "metadata": {},
   "source": [
    "## Проверка гипотез"
   ]
  },
  {
   "cell_type": "markdown",
   "id": "0131d8e2",
   "metadata": {},
   "source": [
    "### Тратят ли пользователи с подпиской больше времени на поездки? "
   ]
  },
  {
   "cell_type": "markdown",
   "id": "3eba9861",
   "metadata": {},
   "source": [
    "Нулевая гипотеза: средняя длительность поездок пользователей с подпиской и без - равны, альтернативная гипотеза: средняя длительность поездок пользователей с подпиской больше, чем у пользователей без подписки."
   ]
  },
  {
   "cell_type": "code",
   "execution_count": 34,
   "id": "7c7b5d7b",
   "metadata": {},
   "outputs": [
    {
     "name": "stdout",
     "output_type": "stream",
     "text": [
      "p-value: 5.675781377128977e-37\n",
      "Отвергаем нулевую гипотезу\n"
     ]
    }
   ],
   "source": [
    "duration_free = data_free['duration']\n",
    "duration_ultra = data_ultra['duration']\n",
    "alpha = .05\n",
    "results = st.ttest_ind(duration_ultra, duration_free, equal_var=False, alternative='greater')\n",
    "print(f'p-value: {results.pvalue}')\n",
    "if results.pvalue < alpha:\n",
    "    print('Отвергаем нулевую гипотезу')\n",
    "else:\n",
    "    print('Нет оснований отвергнуть нулевую гипотезу')"
   ]
  },
  {
   "cell_type": "markdown",
   "id": "5a0e7d1c",
   "metadata": {},
   "source": [
    "Нулевая гипотеза в результате теста была отвергнута в пользу альтернативной, а значит, что для имеющихся выборок - пользователи с подпиской тратят в среднем больше времени на поездки, чем пользователи без подписки."
   ]
  },
  {
   "cell_type": "markdown",
   "id": "412c4d5f",
   "metadata": {},
   "source": [
    "### Можно ли сказать, что расстояние, которое проезжают пользователи с подпиской за одну поездку, не превышает 3130 метров? "
   ]
  },
  {
   "cell_type": "markdown",
   "id": "68fb4aca",
   "metadata": {},
   "source": [
    "Нулевая гипотеза: среднее расстояние, которое проезжают пользователи с подпиской равно 3130 метров, альтернативная гипотеза: среднее расстояние, которое проезжают пользователи с подпиской меньше 3130 метров."
   ]
  },
  {
   "cell_type": "code",
   "execution_count": 35,
   "id": "2465faa2",
   "metadata": {},
   "outputs": [
    {
     "name": "stdout",
     "output_type": "stream",
     "text": [
      "p-value: 0.08046311521502145\n",
      "Нет оснований отвергнуть нулевую гипотезу\n"
     ]
    }
   ],
   "source": [
    "interested_value = 3130\n",
    "alpha = 0.05\n",
    "distance_ultra = data_ultra['distance']\n",
    "results = st.ttest_1samp(distance_ultra, interested_value, alternative = 'less')\n",
    "print(f'p-value: {results.pvalue}')\n",
    "if results.pvalue < alpha:\n",
    "    print('Отвергаем нулевую гипотезу')\n",
    "else:\n",
    "    print('Нет оснований отвергнуть нулевую гипотезу')"
   ]
  },
  {
   "cell_type": "markdown",
   "id": "7ef8fb8e",
   "metadata": {},
   "source": [
    "Нулевая гипотеза не была отвергнута в результате теста. Для имеющейся выборки нет оснований полагать, что пользователи с подпиской проезжают меньше 3130 метров."
   ]
  },
  {
   "cell_type": "markdown",
   "id": "e75d67a8",
   "metadata": {},
   "source": [
    "### Будет ли помесячная выручка от пользователей с подпиской по месяцам выше, чем выручка от пользователей без подписки?"
   ]
  },
  {
   "cell_type": "markdown",
   "id": "539db2e3",
   "metadata": {},
   "source": [
    "Нулевая гипотеза: средняя помесячная выручка от пользователей с подпиской по месяцам равна средней выручке от пользователей без подписки, альтернативная гипотеза: средняя помесячная выручка от пользователей с подпиской по месяцам больше средней выручки от пользователей без подписки."
   ]
  },
  {
   "cell_type": "code",
   "execution_count": 36,
   "id": "2b146e79",
   "metadata": {},
   "outputs": [
    {
     "name": "stdout",
     "output_type": "stream",
     "text": [
      "p-value: 8.874140893976874e-40\n",
      "Отвергаем нулевую гипотезу\n"
     ]
    }
   ],
   "source": [
    "free_month_gain = data_agg.query('subscription_type == \"free\"')['month_gain']\n",
    "ultra_month_gain = data_agg.query('subscription_type == \"ultra\"')['month_gain']\n",
    "alpha = 0.05\n",
    "results = st.ttest_ind(ultra_month_gain, free_month_gain, equal_var=False, alternative = 'greater')\n",
    "print(f'p-value: {results.pvalue}')\n",
    "if results.pvalue < alpha:\n",
    "    print('Отвергаем нулевую гипотезу')\n",
    "else:\n",
    "    print('Нет оснований отвергнуть нулевую гипотезу')"
   ]
  },
  {
   "cell_type": "markdown",
   "id": "1a8996d4",
   "metadata": {},
   "source": [
    "Нулевая гипотеза в результате теста была отвергнута в пользу альтернативной. Для имеющихся выборок - средняя помесячная выручка от пользователей с подпиской по месяцам больше средней выручки от пользователей без подписки."
   ]
  },
  {
   "cell_type": "markdown",
   "id": "a8f77c04",
   "metadata": {},
   "source": [
    "###  Представьте такую ситуацию: техническая команда сервиса обновила сервера, с которыми взаимодействует мобильное приложение. Она надеется, что из-за этого количество обращений в техподдержку значимо снизилось. Некоторый файл содержит для каждого пользователя данные о количестве обращений до обновления и после него. Какой тест вам понадобился бы для проверки этой гипотезы?"
   ]
  },
  {
   "cell_type": "markdown",
   "id": "505be617",
   "metadata": {},
   "source": [
    "Для проверки гипотезы что количество обращений в техподдержку значимо снизилось после обновления серверов понадобился бы scipy.stats.ttest_rel(), который подходит для зависимых (парных) выборок."
   ]
  },
  {
   "cell_type": "markdown",
   "id": "a56513d9",
   "metadata": {},
   "source": [
    "### Вывод"
   ]
  },
  {
   "cell_type": "markdown",
   "id": "ed8673da",
   "metadata": {},
   "source": [
    "* Пользователи с подпиской тратят в среднем больше времени на поездки, чем пользователи без подписки.\n",
    "* Для имеющейся выборки нет оснований полагать, что пользователи с подпиской проезжают меньше 3130 метров.\n",
    "* Средняя помесячная выручка от пользователей с подпиской по месяцам больше средней выручки от пользователей без подписки.\n",
    "* Для проверки гипотезы что количество обращений в техподдержку значимо снизилось после обновления серверов понадобился бы scipy.stats.ttest_rel(), который подходит для зависимых (парных) выборок."
   ]
  },
  {
   "cell_type": "markdown",
   "id": "61213c5e",
   "metadata": {},
   "source": [
    "## Распределения"
   ]
  },
  {
   "cell_type": "markdown",
   "id": "5686b2c1",
   "metadata": {},
   "source": [
    "### Акция с промокодами\n",
    "Отделу маркетинга GoFast поставили задачу: нужно провести акцию с раздачей промокодов на один бесплатный месяц подписки, в рамках которой как минимум 100 существующих клиентов должны продлить эту подписку. То есть по завершении периода действия подписки пользователь может либо отказаться от неё, либо продлить, совершив соотвествующий платёж. \n",
    "Эта акция уже проводилась ранее и по итогу выяснилось, что после бесплатного пробного периода подписку продлевают 10 % пользователей. Выясните, какое минимальное количество промокодов нужно разослать, чтобы вероятность не выполнить план была примерно 5 %. Подберите параметры распределения, описывающего эту ситуацию, постройте график распределения и сформулируйте ответ на вопрос о количестве промокодов."
   ]
  },
  {
   "cell_type": "markdown",
   "id": "647b9935",
   "metadata": {},
   "source": [
    "Для решения задачи используем биноминальное распределение. Найдем подходящее количество экспериментов, чтобы вероятность получить меньше 100 клиентов была меньше 5%."
   ]
  },
  {
   "cell_type": "code",
   "execution_count": 37,
   "id": "1a31337e",
   "metadata": {},
   "outputs": [
    {
     "name": "stdout",
     "output_type": "stream",
     "text": [
      "0.04954795210203071\n"
     ]
    },
    {
     "data": {
      "text/plain": [
       "1173"
      ]
     },
     "execution_count": 37,
     "metadata": {},
     "output_type": "execute_result"
    }
   ],
   "source": [
    "n = 100 \n",
    "p = 0.1 \n",
    "result = 1\n",
    "while result > 0.05:\n",
    "    distr = st.binom(n, p)\n",
    "    result = distr.cdf(100)\n",
    "    n += 1\n",
    "print(result)\n",
    "n"
   ]
  },
  {
   "cell_type": "markdown",
   "id": "4e9b67b4",
   "metadata": {},
   "source": [
    "Минимальное количество промокодов, которые нужно разослать - 1173."
   ]
  },
  {
   "cell_type": "code",
   "execution_count": 38,
   "id": "a3890d17",
   "metadata": {},
   "outputs": [
    {
     "name": "stderr",
     "output_type": "stream",
     "text": [
      "C:\\ProgramData\\Anaconda3\\envs\\practicum\\lib\\site-packages\\scipy\\stats\\_discrete_distns.py:69: RuntimeWarning: divide by zero encountered in _binom_pdf\n",
      "  return _boost._binom_pdf(x, n, p)\n"
     ]
    },
    {
     "data": {
      "image/png": "[encoded data removed]",
      "text/plain": [
       "<Figure size 640x480 with 1 Axes>"
      ]
     },
     "metadata": {},
     "output_type": "display_data"
    }
   ],
   "source": [
    "n = 1173\n",
    "p = 0.1\n",
    "distr = []\n",
    "for k in range(0, n + 1):\n",
    "    current_value = st.binom.pmf(k, n, p)\n",
    "    distr.append(current_value)\n",
    "plt.bar(range(0, n + 1), distr)\n",
    "plt.xlim(80,160)\n",
    "plt.show()"
   ]
  },
  {
   "cell_type": "markdown",
   "id": "fe07ed1e",
   "metadata": {},
   "source": [
    "#### Вывод"
   ]
  },
  {
   "cell_type": "markdown",
   "id": "45d99b8d",
   "metadata": {},
   "source": [
    "Чтобы по итогам акции выполнить план в 100 клиентов продливших подписку - необходимо отправить как минимум 1173 промокода."
   ]
  },
  {
   "cell_type": "markdown",
   "id": "4f1d025c",
   "metadata": {},
   "source": [
    "### Задача от отдела маркетинга\n",
    "Отдел маркетинга рассылает клиентам push-уведомления в мобильном приложении. Клиенты могут открыть его или не открывать. Известно, что уведомления открывают около 40 % получивших клиентов. Отдел планирует разослать 1 млн уведомлений. С помощью аппроксимации постройте примерный график распределения и оцените вероятность того, что уведомление откроют не более 399,5 тыс. пользователей."
   ]
  },
  {
   "cell_type": "code",
   "execution_count": 39,
   "id": "9b35ba4c",
   "metadata": {},
   "outputs": [
    {
     "data": {
      "image/png": "[encoded data removed]",
      "text/plain": [
       "<Figure size 640x480 with 1 Axes>"
      ]
     },
     "metadata": {},
     "output_type": "display_data"
    }
   ],
   "source": [
    "# задаем параметры биноминального определения\n",
    "n = 1000000 \n",
    "p = 0.4\n",
    "\n",
    "# задаем параметры нормального определения для аппроксимации нашего биноминального распределения\n",
    "mu = n * p\n",
    "sigma = np.sqrt(n * p * (1 - p))\n",
    "\n",
    "# задаем нормальное распределение\n",
    "distr = st.norm(mu, sigma)\n",
    "\n",
    "# зададим границы промежутка, в котором будем строить аппроксимацию\n",
    "left = int(mu - 4 * sigma)\n",
    "right = int(mu + 4 * sigma)\n",
    " \n",
    "# получим список из 1000 чисел от left до right\n",
    "x = np.linspace(left, right, 1000)\n",
    "\n",
    "# рисуем график биномиального распределения\n",
    "plt.plot(x, distr.pdf(x))\n",
    "plt.show()"
   ]
  },
  {
   "cell_type": "markdown",
   "id": "47c4661a",
   "metadata": {},
   "source": [
    "С помощью аппроксимации получили примерный график распределения. Найдем вероятность того, что уведомление откроют не более 399500 пользователей."
   ]
  },
  {
   "cell_type": "code",
   "execution_count": 40,
   "id": "dd4aef79",
   "metadata": {},
   "outputs": [
    {
     "data": {
      "text/plain": [
       "0.15371708296369768"
      ]
     },
     "execution_count": 40,
     "metadata": {},
     "output_type": "execute_result"
    }
   ],
   "source": [
    "# находим требуемую вероятность\n",
    "result = distr.cdf(399500)\n",
    "result"
   ]
  },
  {
   "cell_type": "markdown",
   "id": "2131ce23",
   "metadata": {},
   "source": [
    "#### Вывод"
   ]
  },
  {
   "cell_type": "markdown",
   "id": "9db7935b",
   "metadata": {},
   "source": [
    "Вероятность того, что уведомление откроют не более 399,5 тысяч пользователей примерно равна 15,4%."
   ]
  },
  {
   "cell_type": "markdown",
   "id": "c8d175d8",
   "metadata": {},
   "source": [
    "## Общий вывод"
   ]
  },
  {
   "cell_type": "markdown",
   "id": "f49a7087",
   "metadata": {},
   "source": [
    "Для исследования было использовано 3 исходных датасета: users_go, rides_go и subscriptions_go.\n",
    "\n",
    "В результате предобработки данных был изменен тип данных в столбце с датой для возможности дальнейших рассчетов, добавлен новый столбец с номером месяца, обработаны дубликаты.\n",
    "\n",
    "Был произведен исследовательский анализ данных датасетов.\n",
    "\n",
    "Было создано 3 дополнительных датафрейма: data - с объединенными данными о пользователях, поездках и подписках, data_ultra - с данными о пользователях с платной подпиской и data_free с данными о пользователях без подписки.\n",
    "\n",
    "Также, был создан датафрейм data_agg c данными о суммарном расстоянии, количестве поездок, суммарном времени и месячной выручкой для каждого пользователя за каждый месяц.\n",
    "\n",
    "В результате проверки гипотез получили следующие выводы:\n",
    "* Пользователи с подпиской тратят в среднем больше времени на поездки, чем пользователи без подписки.\n",
    "* Для имеющейся выборки нет оснований полагать, что пользователи с подпиской проезжают меньше 3130 метров.\n",
    "* Средняя помесячная выручка от пользователей с подпиской больше средней помесячной выручки от пользователей без подписки.\n",
    "\n",
    "Были проведены рассчеты для отдела маркетинга, в результате которых было выяснено:\n",
    "* Чтобы по итогам акции с промокодами выполнить план в 100 клиентов продливших подписку - необходимо отправить как минимум 1173 промокода.\n",
    "* Вероятность того, что push-уведомление откроют не более 399,5 тысяч пользователей примерно равна 15,4%."
   ]
  }
 ],
 "metadata": {
  "ExecuteTimeLog": [
   {
    "duration": 1073,
    "start_time": "2023-05-15T17:30:38.290Z"
   },
   {
    "duration": 117,
    "start_time": "2023-05-15T17:30:39.365Z"
   },
   {
    "duration": 120,
    "start_time": "2023-05-15T17:30:39.484Z"
   },
   {
    "duration": 93,
    "start_time": "2023-05-15T17:30:39.606Z"
   },
   {
    "duration": 12,
    "start_time": "2023-05-15T17:30:39.702Z"
   },
   {
    "duration": 11,
    "start_time": "2023-05-15T17:30:39.716Z"
   },
   {
    "duration": 10,
    "start_time": "2023-05-15T17:30:39.728Z"
   },
   {
    "duration": 11,
    "start_time": "2023-05-15T17:30:39.739Z"
   },
   {
    "duration": 8,
    "start_time": "2023-05-15T17:30:39.751Z"
   },
   {
    "duration": 25,
    "start_time": "2023-05-15T17:30:39.760Z"
   },
   {
    "duration": 13,
    "start_time": "2023-05-15T17:30:39.787Z"
   },
   {
    "duration": 9,
    "start_time": "2023-05-15T17:30:39.802Z"
   },
   {
    "duration": 5,
    "start_time": "2023-05-15T17:30:39.813Z"
   },
   {
    "duration": 10,
    "start_time": "2023-05-15T17:30:39.821Z"
   },
   {
    "duration": 189,
    "start_time": "2023-05-15T17:30:39.832Z"
   },
   {
    "duration": 142,
    "start_time": "2023-05-15T17:30:40.023Z"
   },
   {
    "duration": 255,
    "start_time": "2023-05-15T17:30:40.166Z"
   },
   {
    "duration": 164,
    "start_time": "2023-05-15T17:30:40.423Z"
   },
   {
    "duration": 166,
    "start_time": "2023-05-15T17:30:40.589Z"
   },
   {
    "duration": 28,
    "start_time": "2023-05-15T17:30:40.757Z"
   },
   {
    "duration": 21,
    "start_time": "2023-05-15T17:30:40.787Z"
   },
   {
    "duration": 18,
    "start_time": "2023-05-15T17:30:40.810Z"
   },
   {
    "duration": 16,
    "start_time": "2023-05-15T17:30:40.830Z"
   },
   {
    "duration": 188,
    "start_time": "2023-05-15T17:30:40.847Z"
   },
   {
    "duration": 165,
    "start_time": "2023-05-15T17:30:41.036Z"
   },
   {
    "duration": 269,
    "start_time": "2023-05-15T17:30:41.203Z"
   },
   {
    "duration": 173,
    "start_time": "2023-05-15T17:30:41.473Z"
   },
   {
    "duration": 44,
    "start_time": "2023-05-15T17:30:41.648Z"
   },
   {
    "duration": 17,
    "start_time": "2023-05-15T17:30:41.694Z"
   },
   {
    "duration": 4,
    "start_time": "2023-05-15T17:30:41.714Z"
   },
   {
    "duration": 483,
    "start_time": "2023-05-15T17:30:41.719Z"
   },
   {
    "duration": 6,
    "start_time": "2023-05-15T17:30:42.203Z"
   },
   {
    "duration": 8,
    "start_time": "2023-05-15T17:30:42.210Z"
   },
   {
    "duration": 9,
    "start_time": "2023-05-15T17:30:42.220Z"
   },
   {
    "duration": 719,
    "start_time": "2023-05-15T17:30:42.231Z"
   },
   {
    "duration": 1517,
    "start_time": "2023-05-15T17:30:42.951Z"
   },
   {
    "duration": 130,
    "start_time": "2023-05-15T17:30:44.470Z"
   },
   {
    "duration": 4,
    "start_time": "2023-05-15T17:30:44.602Z"
   },
   {
    "duration": 4,
    "start_time": "2023-05-15T17:36:59.269Z"
   },
   {
    "duration": 7,
    "start_time": "2023-05-15T17:38:14.024Z"
   },
   {
    "duration": 6,
    "start_time": "2023-05-15T17:38:27.357Z"
   }
  ],
  "hide_input": false,
  "kernelspec": {
   "display_name": "Python 3 (ipykernel)",
   "language": "python",
   "name": "python3"
  },
  "language_info": {
   "codemirror_mode": {
    "name": "ipython",
    "version": 3
   },
   "file_extension": ".py",
   "mimetype": "text/x-python",
   "name": "python",
   "nbconvert_exporter": "python",
   "pygments_lexer": "ipython3",
   "version": "3.9.17"
  },
  "toc": {
   "base_numbering": 1,
   "nav_menu": {},
   "number_sections": true,
   "sideBar": true,
   "skip_h1_title": true,
   "title_cell": "Table of Contents",
   "title_sidebar": "Contents",
   "toc_cell": false,
   "toc_position": {
    "height": "1144px",
    "left": "23px",
    "top": "111.125px",
    "width": "367.4px"
   },
   "toc_section_display": true,
   "toc_window_display": true
  }
 },
 "nbformat": 4,
 "nbformat_minor": 5
}
